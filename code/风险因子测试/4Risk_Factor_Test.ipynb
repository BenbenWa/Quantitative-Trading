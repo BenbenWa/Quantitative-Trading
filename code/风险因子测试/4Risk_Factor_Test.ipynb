{
 "cells": [
  {
   "cell_type": "code",
   "execution_count": 14,
   "metadata": {
    "collapsed": true
   },
   "outputs": [],
   "source": [
    "import pandas as pd\n",
    "import numpy as np\n",
    "import datetime as dt\n",
    "import daolib.dao as dao\n",
    "import daolib.dso as dso\n",
    "import util.sectool as sectool\n",
    "import matplotlib.pyplot as plt\n",
    "%matplotlib inline"
   ]
  },
  {
   "cell_type": "markdown",
   "metadata": {},
   "source": [
    "## 特征值"
   ]
  },
  {
   "cell_type": "code",
   "execution_count": 15,
   "metadata": {
    "collapsed": true
   },
   "outputs": [],
   "source": [
    "risk_beta = dao.get_style_risk_factor('risk_beta','zz')\n",
    "risk_bp = dao.get_style_risk_factor('risk_bp','zz')\n",
    "risk_ey = dao.get_style_risk_factor('risk_ey','zz')\n",
    "risk_gro = dao.get_style_risk_factor('risk_gro','zz')\n",
    "risk_lev = dao.get_style_risk_factor('risk_lev','zz')\n",
    "risk_liq = dao.get_style_risk_factor('risk_liq','zz')\n",
    "risk_mom = dao.get_style_risk_factor('risk_mom','zz')\n",
    "risk_mv = dao.get_style_risk_factor('risk_mv','zz')\n",
    "risk_nlmv = dao.get_style_risk_factor('risk_nlmv','zz')\n",
    "risk_vol = dao.get_style_risk_factor('risk_vol','zz')\n",
    "\n",
    "#股票上市状态(只选择为0的值，不为0的值为异常值)\n",
    "price_df=dao.get_security_info('stock_price_info')\n",
    "trade_status_df=price_df.xs('trade_status',level=1)"
   ]
  },
  {
   "cell_type": "code",
   "execution_count": 16,
   "metadata": {
    "collapsed": true
   },
   "outputs": [],
   "source": [
    "#时间间隔（月/天）\n",
    "trade_date_m_list = dso.get_trade_date(start_date=dt.datetime(2009,4,4), end_date=dt.datetime(2018,10,31), period='m')\n",
    "trade_date_d_list = dso.get_trade_date(start_date=dt.datetime(2007,1,4), end_date=dt.datetime(2018,10,31), period='d')"
   ]
  },
  {
   "cell_type": "code",
   "execution_count": 17,
   "metadata": {
    "collapsed": true
   },
   "outputs": [],
   "source": [
    "#读取月度数据\n",
    "risk_beta_df=risk_beta.loc[:,trade_date_m_list]\n",
    "risk_bp_df=risk_bp.loc[:,trade_date_m_list]\n",
    "risk_ey_df=risk_ey.loc[:,trade_date_m_list]\n",
    "risk_gro_df=risk_gro.loc[:,trade_date_m_list]   #2009年4月份后才有完整数据\n",
    "risk_lev_df=risk_lev.loc[:,trade_date_m_list]\n",
    "risk_liq_df=risk_liq.loc[:,trade_date_m_list]\n",
    "risk_mom_df=risk_mom.loc[:,trade_date_m_list]\n",
    "risk_mv_df=risk_mv.loc[:,trade_date_m_list]\n",
    "risk_nlmv_df=risk_nlmv.loc[:,trade_date_m_list]\n",
    "risk_vol_df=risk_vol.loc[:,trade_date_m_list]"
   ]
  },
  {
   "cell_type": "markdown",
   "metadata": {},
   "source": [
    "#### 分类标签"
   ]
  },
  {
   "cell_type": "code",
   "execution_count": 18,
   "metadata": {
    "collapsed": true
   },
   "outputs": [],
   "source": [
    "# 分类标准（以涨跌幅划分，前t%标记为1，后t%标记位-1，中间标记为0），作为预测分类标签\n",
    "stock_price_df = dao.get_security_info('stock_price_info')  #股票涨跌幅（月频数据）\n",
    "pct_chg=stock_price_df.loc[:,trade_date_m_list].xs('close',level=1).pct_change(1, axis=1).shift(-1,axis=1)\n",
    "def fun(x,i,t):\n",
    "    u=pct_chg[i].sort_values(ascending=False)\n",
    "    u.dropna(inplace=True)\n",
    "    n=int(len(u)*t)\n",
    "    #按照涨跌幅前t%，后t%分类\n",
    "    s1=u[0:n].values\n",
    "    s2=u[-n:].values\n",
    "    if  x in s1:\n",
    "        return 1\n",
    "    elif x in s2:\n",
    "        return -1\n",
    "    else:\n",
    "        return 0\n",
    "def pct_class_creat(t):\n",
    "    pct_chg_class=stock_price_df.loc[:,trade_date_m_list].xs('close',level=1).pct_change(1, axis=1).shift(-1,axis=1)  \n",
    "    for i in pct_chg.columns:\n",
    "        pct_chg_class[i]=pct_chg[i].apply(lambda x: fun(x,i,t))     #以t%为阈值\n",
    "    return pct_chg_class"
   ]
  },
  {
   "cell_type": "code",
   "execution_count": 21,
   "metadata": {
    "collapsed": true
   },
   "outputs": [],
   "source": [
    "def pct_class_creat2(t):\n",
    "    stock_price_df = dao.get_security_info('stock_price_info')  #股票涨跌幅（月频数据）\n",
    "    pct_chg=stock_price_df.loc[:,trade_date_m_list].xs('close',level=1).pct_change(1, axis=1).shift(-1,axis=1)  \n",
    "    rise_quatile_percent = t\n",
    "    rise_quan30_series = pct_chg.quantile(rise_quatile_percent)\n",
    "    rise_quan70_series = pct_chg.quantile(1.0 - rise_quatile_percent)\n",
    "\n",
    "    pct_chg[pct_chg>rise_quan70_series] = 999\n",
    "    pct_chg[pct_chg<rise_quan30_series] = -999\n",
    "    pct_chg[pct_chg.abs() != 999] = np.nan\n",
    "\n",
    "    pct_chg.replace(to_replace=[-999, 999], value=[-1, 1], inplace=True)\n",
    "    pct_chg.fillna(0,inplace=True)\n",
    "    return pct_chg    "
   ]
  },
  {
   "cell_type": "code",
   "execution_count": 24,
   "metadata": {},
   "outputs": [],
   "source": [
    "# pct_chg_class1"
   ]
  },
  {
   "cell_type": "code",
   "execution_count": 22,
   "metadata": {},
   "outputs": [],
   "source": [
    "pct_chg_class1=pct_class_creat2(0.1)\n",
    "pct_chg_class2=pct_class_creat2(0.2)\n",
    "pct_chg_class3=pct_class_creat2(0.3)"
   ]
  },
  {
   "cell_type": "markdown",
   "metadata": {},
   "source": [
    "#### 空值填充"
   ]
  },
  {
   "cell_type": "code",
   "execution_count": 26,
   "metadata": {
    "collapsed": true
   },
   "outputs": [],
   "source": [
    "#按照行业均值进行填充\n",
    "industry_class_df=dao.get_stock_industry_data('CS')               #股票行业信息----周频信息\n",
    "industry_class_m_df=industry_class_df.loc[:,trade_date_m_list]    #股票行业信息----月频信息\n",
    "#按照行进行填充，下一个值\n",
    "industry_class_m_df=industry_class_m_df.fillna(method='bfill',axis=1)\n",
    "industry_class_m_df=industry_class_m_df.fillna('未知')  \n",
    "#按照行业均值进行填充\n",
    "def fillna_ind_mean(data):\n",
    "    for i in range(1,len(trade_date_m_list)):\n",
    "        resl_series = pd.Series() \n",
    "        industry_series=industry_class_m_df.iloc[:,i]\n",
    "        group_data = industry_series.index.groupby(industry_series.values) \n",
    "        industry_list = list(group_data.keys())   \n",
    "        data_series=data.iloc[:,i]\n",
    "        for industry_name in industry_list:      \n",
    "            industry_temp = data_series.loc[group_data[industry_name]]\n",
    "            industry_temp = industry_temp.fillna(industry_temp.mean())         \n",
    "            resl_series = resl_series.append(industry_temp)\n",
    "        stock_list = list(set(data_series.index) - set(industry_series.dropna().index))\n",
    "        resl_series = resl_series.append(data_series.loc[stock_list])\n",
    "        data.iloc[:,i]=resl_series\n",
    "    return data\n",
    "\n",
    "#只做均值填充\n",
    "def data_fillna_mean(df):\n",
    "    df=fillna_ind_mean(df)\n",
    "    return df\n",
    "#先均值填充，再前后填充\n",
    "def data_fillna_mean_bf(df):\n",
    "    df=fillna_ind_mean(df)\n",
    "    df=df.fillna(method='bfill',axis=1)\n",
    "    df=df.fillna(method='ffill',axis=1)\n",
    "    return df"
   ]
  },
  {
   "cell_type": "code",
   "execution_count": 27,
   "metadata": {},
   "outputs": [],
   "source": [
    "risk_beta_mean_bf_df=data_fillna_mean_bf(risk_beta_df)\n",
    "risk_bp_mean_bf_df=data_fillna_mean_bf(risk_bp_df)\n",
    "risk_ey_mean_bf_df=data_fillna_mean_bf(risk_ey_df)\n",
    "risk_gro_mean_bf_df=data_fillna_mean_bf(risk_gro_df)  \n",
    "risk_lev_mean_bf_df=data_fillna_mean_bf(risk_lev_df)\n",
    "risk_liq_mean_bf_df=data_fillna_mean_bf(risk_liq_df)\n",
    "risk_mom_mean_bf_df=data_fillna_mean_bf(risk_mom_df)\n",
    "risk_mv_mean_bf_df=data_fillna_mean_bf(risk_mv_df)\n",
    "risk_nlmv_mean_bf_df=data_fillna_mean_bf(risk_nlmv_df)\n",
    "risk_vol_mean_bf_df=data_fillna_mean_bf(risk_vol_df)"
   ]
  },
  {
   "cell_type": "markdown",
   "metadata": {},
   "source": [
    "## 只选4个显著特征值"
   ]
  },
  {
   "cell_type": "code",
   "execution_count": 28,
   "metadata": {
    "collapsed": true
   },
   "outputs": [],
   "source": [
    "def pctdata_join(pct_chg_class):\n",
    "    data_pct=pd.DataFrame()\n",
    "    for i in risk_beta_df.columns:\n",
    "        stock_pct_factor=(pd.concat([risk_beta_mean_bf_df[i],risk_ey_mean_bf_df[i],risk_liq_mean_bf_df[i],risk_vol_mean_bf_df[i],pct_chg_class[i],trade_status_df[i]],axis=1)).reset_index()\n",
    "        stock_pct_factor.columns=['stock','risk_beta','risk_ey','risk_liq','risk_vol','pct_chg_class','trade_status']\n",
    "        stock_pct_factor['date']=i\n",
    "        data_pct=data_pct.append(stock_pct_factor)\n",
    "    return data_pct"
   ]
  },
  {
   "cell_type": "code",
   "execution_count": null,
   "metadata": {
    "collapsed": true
   },
   "outputs": [],
   "source": []
  },
  {
   "cell_type": "code",
   "execution_count": 29,
   "metadata": {
    "collapsed": true
   },
   "outputs": [],
   "source": [
    "#统计股票在115个月出现的次数\n",
    "def Stock_count(data):\n",
    "    stock_list=(data['stock'].value_counts()).sort_values()      #统计股票出现次数，并升序排序\n",
    "    print(\"有数据的股票支数:\",len( stock_list))\n",
    "    # print(\"115个月内都有数据的股票支数:\",len(lis[lis==115]))   #统计115个月内都有数据的股票\n",
    "    x=[]\n",
    "    y=[]\n",
    "    stock_select=[]\n",
    "    for i in range(1,116):\n",
    "        x.append(i)\n",
    "        y.append(len(stock_list[stock_list==i]))\n",
    "        stock_select.append([i,stock_list[stock_list==i].index])\n",
    "#         print(i,\"个月内都有数据的股票支数:\",len(lis[lis==i]))   \n",
    "    #     print(i,len(lis[lis==i]))\n",
    "    plt.plot(x,y)     \n",
    "    plt.title('stock number in x-months ')\n",
    "    plt.axhline(115/2,color='red')\n",
    "#     plt.show()\n",
    "    return stock_select"
   ]
  },
  {
   "cell_type": "code",
   "execution_count": 30,
   "metadata": {
    "collapsed": true
   },
   "outputs": [],
   "source": [
    "#划分测试集合/训练集合\n",
    "def data_train_test(data_pct):\n",
    "#     data_pct_test=data_pct.fillna(0)       #包含0，-1,1的三种分类的全部数据预测集\n",
    "#     data_pct_test=data_pct      #包含0，-1,1的三种分类的全部数据预测集\n",
    "    data_pct_test=data_pct[data_pct['trade_status']==0]       #选择正常股票状态的数据\n",
    "    data_pct_test=data_pct_test.dropna()    #删除空值\n",
    "    data_pct_train=data_pct[~data_pct['pct_chg_class'].isin([0])]        #不包含0的训练集\n",
    "    data_pct_train=data_pct_train[data_pct_train['trade_status']==0]       #选择正常股票状态的数据\n",
    "    #直接删除空值？？？其余处理方式？？\n",
    "    data_pct_dropna_train=data_pct_train.dropna()\n",
    "    #筛选出只出现一次的股票（以月为单位）,删除只有一行数据的股票，后面会报错numpy\n",
    "    data_pct_drop_train_select=Stock_count(data_pct_dropna_train)\n",
    "    temp=[]\n",
    "    for i in data_pct_drop_train_select[0][1]:\n",
    "        temp.append(i)\n",
    "    data_pct_drop_train=data_pct_dropna_train[~(data_pct_dropna_train['stock'].isin(temp))]\n",
    "    return data_pct_drop_train,data_pct_test"
   ]
  },
  {
   "cell_type": "code",
   "execution_count": 73,
   "metadata": {},
   "outputs": [
    {
     "name": "stdout",
     "output_type": "stream",
     "text": [
      "有数据的股票支数: 3546\n",
      "有数据的股票支数: 3573\n",
      "有数据的股票支数: 3575\n"
     ]
    },
    {
     "data": {
      "image/png": "[encoded data removed]",
      "text/plain": [
       "<matplotlib.figure.Figure at 0x1cf0f4d52b0>"
      ]
     },
     "metadata": {},
     "output_type": "display_data"
    }
   ],
   "source": [
    "pct_chg_class1_data=pctdata_join(pct_chg_class1)\n",
    "pct_chg_class2_data=pctdata_join(pct_chg_class2)\n",
    "pct_chg_class3_data=pctdata_join(pct_chg_class3)\n",
    "\n",
    "Class10_train,Class10_test=data_train_test(pct_chg_class1_data)\n",
    "Class20_train,Class20_test=data_train_test(pct_chg_class2_data)\n",
    "Class30_train,Class30_test=data_train_test(pct_chg_class3_data)"
   ]
  },
  {
   "cell_type": "code",
   "execution_count": null,
   "metadata": {},
   "outputs": [],
   "source": [
    "import numpy as np\n",
    "from sklearn.decomposition import pca\n",
    "from pyhht.emd import EMD\n",
    "from pyhht.visualization import plot_imfs\n",
    "\n",
    "\n",
    "# data=Class10_train['risk_beta'].reset_index()\n",
    "# data['risk_beta']\n",
    "# decomposer=EMD()              \n",
    "# imfs = decomposer.decompose()\n",
    "# plot_imfs(data['risk_beta'],imfs,data.index)"
   ]
  },
  {
   "cell_type": "code",
   "execution_count": 103,
   "metadata": {},
   "outputs": [
    {
     "name": "stdout",
     "output_type": "stream",
     "text": [
      "100\n",
      "100\n",
      "100\n",
      "100\n",
      "100\n",
      "100\n",
      "100\n"
     ]
    }
   ],
   "source": [
    "len(IMFs) \n",
    "# print(s)\n",
    "for i in IMFs:\n",
    "    print(len(i))"
   ]
  },
  {
   "cell_type": "markdown",
   "metadata": {},
   "source": [
    "#### 标准化"
   ]
  },
  {
   "cell_type": "code",
   "execution_count": 34,
   "metadata": {
    "collapsed": true
   },
   "outputs": [],
   "source": [
    "# 可以处理空值\n",
    "def Standard(X_train,X_test):\n",
    "    X_train_scaled =1.0 * (X_train - X_train.mean()) / X_train.std()  # 数据标准化\n",
    "    X_test_scaled =1.0 * (X_test - X_test.mean()) / X_test.std()  # 数据标准化\n",
    "    return  X_train_scaled,X_test_scaled "
   ]
  },
  {
   "cell_type": "markdown",
   "metadata": {},
   "source": [
    "#### 划分测试集、训练集"
   ]
  },
  {
   "cell_type": "code",
   "execution_count": 35,
   "metadata": {
    "collapsed": true
   },
   "outputs": [],
   "source": [
    "#两分类划分，划分训练集data，测试集alldata（训练集的类别只有（0,1），测试集包含所有类别（0,1，-1））\n",
    "def Splitdata2(data,alldata,i,j,x,y):\n",
    "    #按月份计数\n",
    "    resultdata=(data['stock'].groupby(data['date'])).describe()\n",
    "    resultalldata=(alldata['stock'].groupby(alldata['date'])).describe()\n",
    "    resultdata['sum']=resultdata['count'].cumsum()\n",
    "    resultalldata['sum']=resultalldata['count'].cumsum()\n",
    "    i=resultdata['sum'][i]\n",
    "    j=resultdata['sum'][j]\n",
    "    x=resultalldata['sum'][x]\n",
    "    y=resultalldata['sum'][y]\n",
    "    \n",
    "    X_train=np.array(data[['risk_beta','risk_ey','risk_liq','risk_vol','stock','date']][j:i])\n",
    "    Y_train=np.array(data['pct_chg_class'][j:i])\n",
    "    #第x个月，测试集\n",
    "    X_test=np.array(alldata[['risk_beta','risk_ey','risk_liq','risk_vol','stock','date']][x:y])\n",
    "    Y_test=np.array(alldata['pct_chg_class'][x:y])\n",
    "    X_train_scaled,X_test_scaled=Standard(X_train[:,:-2],X_test[:,:-2])\n",
    "    return X_train_scaled,X_test_scaled,Y_train,Y_test,X_test"
   ]
  },
  {
   "cell_type": "code",
   "execution_count": 36,
   "metadata": {
    "collapsed": true
   },
   "outputs": [],
   "source": [
    "#三类划分\n",
    "def Splitdata3(data,i,j,x,y):\n",
    "    #按月份计数\n",
    "    resultdata=(data['stock'].groupby(data['date'])).describe()\n",
    "    resultdata['sum']=resultdata['count'].cumsum()\n",
    "    i=resultdata['sum'][i]\n",
    "    j=resultdata['sum'][j]\n",
    "    x=resultdata['sum'][x]\n",
    "    y=resultdata['sum'][y]\n",
    "    #j月-i月\n",
    "    X_train=np.array(data[['risk_beta','risk_ey','risk_liq','risk_vol','stock','date']][j:i])\n",
    "    Y_train=np.array(data['pct_chg_class'][j:i])\n",
    "    #第x个月，测试集\n",
    "    X_test=np.array(data[['risk_beta','risk_ey','risk_liq','risk_vol','stock','date']][x:y])\n",
    "    Y_test=np.array(data['pct_chg_class'][x:y])\n",
    "    X_train_scaled,X_test_scaled=Standard(X_train[:,:-2],X_test[:,:-2])\n",
    "    return X_train_scaled,X_test_scaled,Y_train,Y_test,X_test"
   ]
  },
  {
   "cell_type": "markdown",
   "metadata": {},
   "source": [
    "#### 概率预测"
   ]
  },
  {
   "cell_type": "code",
   "execution_count": 37,
   "metadata": {
    "collapsed": true
   },
   "outputs": [],
   "source": [
    "from sklearn.linear_model import LogisticRegression\n",
    "# 预测概率值（没有Y_test来检验）\n",
    "def LR_probo(X_train,Y_train,X_test,Y_test,columns1,columns2,Xx_test):\n",
    "    clf = LogisticRegression()  \n",
    "    clf.fit(X_train, Y_train)  \n",
    "#     print(clf.predict(X_test))            #   返回预测标签  \n",
    "    probo=clf.predict_proba(X_test)    # 返回预测属于某标签的概率   \n",
    "    probo=pd.DataFrame(probo,columns=[columns1,columns2])    \n",
    "    probo['STOCK']=Xx_test[:,-2]\n",
    "    probo['date']=Xx_test[:,-1]\n",
    "#     probo['PCT_CHG']=Y_test\n",
    "    return probo\n",
    "\n",
    "from sklearn import svm\n",
    "# 预测概率值（没有Y_test来检验）\n",
    "def SVM_probo(X_train,Y_train,X_test,Y_test,columns1,columns2,Xx_test):\n",
    "    clf = svm.SVC(probability=True)  \n",
    "    clf.fit(X_train, Y_train)  \n",
    "#     print(clf.predict(X_test))       #   返回预测标签  \n",
    "    probo=clf.predict_proba(X_test)      # 返回预测属于某标签的概率  \n",
    "    probo=pd.DataFrame(probo,columns=[columns1,columns2])\n",
    "    probo['STOCK']=Xx_test[:,-2]\n",
    "    probo['date']=Xx_test[:,-1]\n",
    "    return probo\n",
    "\n",
    "#SVM多分类(很慢)\n",
    "def NSVM_probo(X_train,Y_train,X_test,Y_test,columns1,columns2,columns3,Xx_test):\n",
    "    from sklearn.multiclass import OneVsRestClassifier\n",
    "    clf = OneVsRestClassifier(svm.SVC(probability=True))\n",
    "#     clf = svm.SVC(probability=True)  \n",
    "    clf.fit(X_train, Y_train)   \n",
    "#     print(clf.predict(X_test))        #   返回预测标签  \n",
    "    probo=clf.predict_proba(X_test)   \n",
    "    probo=pd.DataFrame(probo,columns=[columns1,columns2,columns3])\n",
    "    probo['STOCK']=Xx_test[:,-2]\n",
    "    probo['date']=Xx_test[:,-1]\n",
    "#     probo['PCT_CHG']=Y_test\n",
    "    return probo"
   ]
  },
  {
   "cell_type": "code",
   "execution_count": 38,
   "metadata": {
    "collapsed": true
   },
   "outputs": [],
   "source": [
    "#从2009年4月来计算因子值，逐月扩展（以24个月为间隔滚动）,model：为预测模型：LR,SVM,RFC.....\n",
    "def pct_probo(data_pct_drop_train,data_pct_test,model):\n",
    "    allprobo_pct_df=[]\n",
    "    for m in range(len(trade_date_m_list)-24):\n",
    "        X_train, X_test, Y_train, Y_test,Xx_test= Splitdata2(data_pct_drop_train,data_pct_test,m+23,m,m+23,m+24)\n",
    "        probo_pct=model(X_train,Y_train,X_test,Y_test,'1','-1',Xx_test)\n",
    "        allprobo_pct_df.append(probo_pct)\n",
    "    return allprobo_pct_df"
   ]
  },
  {
   "cell_type": "code",
   "execution_count": 40,
   "metadata": {},
   "outputs": [],
   "source": [
    "\n",
    "# SVM_probo10_df=pct_probo(Class10_train,Class10_test,SVM_probo)\n",
    "# NSVM_probo10_df=pct_probo(Class10_train,Class10_test,NSVM_probo)"
   ]
  },
  {
   "cell_type": "code",
   "execution_count": 41,
   "metadata": {
    "collapsed": true
   },
   "outputs": [],
   "source": [
    "import lightgbm as lgb\n",
    "from sklearn.metrics import mean_squared_error\n",
    "\n",
    "def LightGBM(data,X_train,y_train,X_test,y_test,Xx_test):\n",
    "    lgb_train = lgb.Dataset(X_train, y_train)   # 创建成lgb特征的数据集格式\n",
    "    lgb_eval = lgb.Dataset(X_test, y_test, reference=lgb_train)\n",
    "    gbm = lgb.LGBMClassifier(boosting_type='gbdt',learning_rate = 0.01,num_leaves = 35,)\n",
    "    gbm.fit(X_train,y_train)\n",
    "    y_pred=gbm.predict(X_test,num_iteration=gbm.best_iteration_)\n",
    "    probo=gbm.predict_proba(X_test)\n",
    "    probo=pd.DataFrame(probo)\n",
    "    probo['stock']=Xx_test[:,-2]\n",
    "    probo['date']=Xx_test[:,-1]\n",
    "    return probo\n",
    "\n",
    "\n",
    "def pct_LightGBM_probo(data):\n",
    "    allprobo_pct_df=[]\n",
    "    for m in range(len(trade_date_m_list)-24):\n",
    "        X_train, X_test, Y_train, Y_test,Xx_test= Splitdata3(data,m+23,m,m+23,m+24)\n",
    "        probo_pct=LightGBM(data,X_train,Y_train,X_test,Y_test,Xx_test)\n",
    "        allprobo_pct_df.append(probo_pct)\n",
    "    return allprobo_pct_df\n",
    "\n",
    "lightgbm_probo_df=pct_LightGBM_probo(Class10_test)"
   ]
  },
  {
   "cell_type": "code",
   "execution_count": 74,
   "metadata": {
    "collapsed": true
   },
   "outputs": [],
   "source": [
    "LR_probo10_df=pct_probo(Class10_train,Class10_test,LR_probo)\n",
    "LR_probo20_df=pct_probo(Class20_train,Class20_test,LR_probo)\n",
    "LR_probo30_df=pct_probo(Class30_train,Class30_test,LR_probo)"
   ]
  },
  {
   "cell_type": "code",
   "execution_count": 68,
   "metadata": {
    "collapsed": true
   },
   "outputs": [],
   "source": [
    "import itertools\n",
    "date=trade_date_m_list[24:]\n",
    "\n",
    "def change(data,n,m):\n",
    "    factor_df=pd.DataFrame(columns=date)\n",
    "    factor_df['stock']=list(risk_beta_df.index)\n",
    "    for i,t in itertools.zip_longest(data,date):\n",
    "        temp=factor_df[['stock']]\n",
    "        temp[t]=np.nan\n",
    "        u=i.iloc[:,[n,m]]\n",
    "        u.columns=[t,'stock']\n",
    "        factor_Crash=pd.concat([u,temp],join='inner',ignore_index=True)\n",
    "        factor_Crash.sort_values(t,inplace=True)\n",
    "        factor_Crash.drop_duplicates(['stock'],inplace=True)\n",
    "        factor_Crash.sort_values('stock',inplace=True)\n",
    "        factor_Crash.reset_index(inplace=True)\n",
    "        factor_df[t]= factor_Crash[t]\n",
    "    factorF_df=factor_df.set_index(['stock'])\n",
    "    return factorF_df\n",
    "\n",
    "def changeindex(data):\n",
    "    factor0_df=change(data,0,2)\n",
    "    factor1_df=change(data,1,2)\n",
    "    return  factor0_df,factor1_df\n",
    "\n",
    "def changeindex3(data):\n",
    "    factor0_df=change(data,0,3)\n",
    "    factor1_df=change(data,1,3)\n",
    "    factor2_df=change(data,2,3)\n",
    "    return  factor0_df,factor1_df,factor2_df"
   ]
  },
  {
   "cell_type": "code",
   "execution_count": 75,
   "metadata": {},
   "outputs": [
    {
     "name": "stderr",
     "output_type": "stream",
     "text": [
      "C:\\Users\\yuanruyi\\Anaconda3\\lib\\site-packages\\ipykernel_launcher.py:9: SettingWithCopyWarning: \n",
      "A value is trying to be set on a copy of a slice from a DataFrame.\n",
      "Try using .loc[row_indexer,col_indexer] = value instead\n",
      "\n",
      "See the caveats in the documentation: http://pandas.pydata.org/pandas-docs/stable/indexing.html#indexing-view-versus-copy\n",
      "  if __name__ == '__main__':\n"
     ]
    }
   ],
   "source": [
    "LR_tail10_df,LR_top10_df=changeindex(LR_probo10_df)\n",
    "LR_tail20_df,LR_top20_df=changeindex(LR_probo20_df)\n",
    "LR_tail30_df,LR_top30_df=changeindex(LR_probo30_df)"
   ]
  },
  {
   "cell_type": "code",
   "execution_count": 44,
   "metadata": {},
   "outputs": [
    {
     "name": "stderr",
     "output_type": "stream",
     "text": [
      "C:\\Users\\yuanruyi\\Anaconda3\\lib\\site-packages\\ipykernel_launcher.py:9: SettingWithCopyWarning: \n",
      "A value is trying to be set on a copy of a slice from a DataFrame.\n",
      "Try using .loc[row_indexer,col_indexer] = value instead\n",
      "\n",
      "See the caveats in the documentation: http://pandas.pydata.org/pandas-docs/stable/indexing.html#indexing-view-versus-copy\n",
      "  if __name__ == '__main__':\n"
     ]
    }
   ],
   "source": [
    "lightgbm_pct10_0,lightgbm_pct10_1,lightgbm_pct10_2=changeindex3(lightgbm_probo_df)"
   ]
  },
  {
   "cell_type": "code",
   "execution_count": 45,
   "metadata": {},
   "outputs": [
    {
     "name": "stderr",
     "output_type": "stream",
     "text": [
      "C:\\Users\\yuanruyi\\Anaconda3\\lib\\site-packages\\statsmodels\\compat\\pandas.py:56: FutureWarning: The pandas.core.datetools module is deprecated and will be removed in a future version. Please use the pandas.tseries module instead.\n",
      "  from pandas.core import datetools\n"
     ]
    }
   ],
   "source": [
    "import util.factortool as ftool\n",
    "\n",
    "def factor_test_T(factor_list,factor_name): \n",
    "    risk_test=pd.DataFrame()\n",
    "    for i ,n in itertools.zip_longest(factor_list,factor_name):\n",
    "        risk_test[n]=ftool.factor_risk_test_tvalue(i)\n",
    "    return  risk_test\n",
    "\n",
    "factor_list=[lightgbm_pct10_0,lightgbm_pct10_1,lightgbm_pct10_2]\n",
    "factor_name=['lightgbm_pct10_0','lightgbm_pct10_1','lightgbm_pct10_2']\n",
    "    \n",
    "risk_test=factor_test_T(factor_list,factor_name)"
   ]
  },
  {
   "cell_type": "code",
   "execution_count": 46,
   "metadata": {},
   "outputs": [
    {
     "data": {
      "text/html": [
       "<div>\n",
       "<style>\n",
       "    .dataframe thead tr:only-child th {\n",
       "        text-align: right;\n",
       "    }\n",
       "\n",
       "    .dataframe thead th {\n",
       "        text-align: left;\n",
       "    }\n",
       "\n",
       "    .dataframe tbody tr th {\n",
       "        vertical-align: top;\n",
       "    }\n",
       "</style>\n",
       "<table border=\"1\" class=\"dataframe\">\n",
       "  <thead>\n",
       "    <tr style=\"text-align: right;\">\n",
       "      <th></th>\n",
       "      <th>lightgbm_pct10_0</th>\n",
       "      <th>lightgbm_pct10_1</th>\n",
       "      <th>lightgbm_pct10_2</th>\n",
       "    </tr>\n",
       "  </thead>\n",
       "  <tbody>\n",
       "    <tr>\n",
       "      <th>risk_beta</th>\n",
       "      <td>5.031144</td>\n",
       "      <td>-7.677591</td>\n",
       "      <td>7.639960</td>\n",
       "    </tr>\n",
       "    <tr>\n",
       "      <th>risk_mv</th>\n",
       "      <td>1.868064</td>\n",
       "      <td>-1.202765</td>\n",
       "      <td>-0.154780</td>\n",
       "    </tr>\n",
       "    <tr>\n",
       "      <th>risk_bp</th>\n",
       "      <td>-2.385089</td>\n",
       "      <td>3.658102</td>\n",
       "      <td>-3.867026</td>\n",
       "    </tr>\n",
       "    <tr>\n",
       "      <th>risk_mom</th>\n",
       "      <td>1.776930</td>\n",
       "      <td>-1.638721</td>\n",
       "      <td>0.734998</td>\n",
       "    </tr>\n",
       "    <tr>\n",
       "      <th>risk_ey</th>\n",
       "      <td>-1.399680</td>\n",
       "      <td>1.459193</td>\n",
       "      <td>-0.719024</td>\n",
       "    </tr>\n",
       "    <tr>\n",
       "      <th>risk_lev</th>\n",
       "      <td>-0.733511</td>\n",
       "      <td>0.878740</td>\n",
       "      <td>-0.667198</td>\n",
       "    </tr>\n",
       "    <tr>\n",
       "      <th>risk_liq</th>\n",
       "      <td>11.587880</td>\n",
       "      <td>-9.175886</td>\n",
       "      <td>2.420956</td>\n",
       "    </tr>\n",
       "    <tr>\n",
       "      <th>risk_gro</th>\n",
       "      <td>-0.062212</td>\n",
       "      <td>-0.399207</td>\n",
       "      <td>0.810857</td>\n",
       "    </tr>\n",
       "    <tr>\n",
       "      <th>risk_vol</th>\n",
       "      <td>41.305950</td>\n",
       "      <td>-44.737916</td>\n",
       "      <td>31.889115</td>\n",
       "    </tr>\n",
       "    <tr>\n",
       "      <th>risk_nlmv</th>\n",
       "      <td>2.322399</td>\n",
       "      <td>-2.099886</td>\n",
       "      <td>0.923841</td>\n",
       "    </tr>\n",
       "  </tbody>\n",
       "</table>\n",
       "</div>"
      ],
      "text/plain": [
       "           lightgbm_pct10_0  lightgbm_pct10_1  lightgbm_pct10_2\n",
       "risk_beta          5.031144         -7.677591          7.639960\n",
       "risk_mv            1.868064         -1.202765         -0.154780\n",
       "risk_bp           -2.385089          3.658102         -3.867026\n",
       "risk_mom           1.776930         -1.638721          0.734998\n",
       "risk_ey           -1.399680          1.459193         -0.719024\n",
       "risk_lev          -0.733511          0.878740         -0.667198\n",
       "risk_liq          11.587880         -9.175886          2.420956\n",
       "risk_gro          -0.062212         -0.399207          0.810857\n",
       "risk_vol          41.305950        -44.737916         31.889115\n",
       "risk_nlmv          2.322399         -2.099886          0.923841"
      ]
     },
     "execution_count": 46,
     "metadata": {},
     "output_type": "execute_result"
    }
   ],
   "source": [
    "risk_test"
   ]
  },
  {
   "cell_type": "code",
   "execution_count": 76,
   "metadata": {},
   "outputs": [
    {
     "name": "stderr",
     "output_type": "stream",
     "text": [
      "因子 LR-1 处理中！\n",
      "\n",
      "100% (91 of 91) |########################| Elapsed Time: 0:01:32 Time:  0:01:32\n",
      "\n",
      "| |     #                                            | 89 Elapsed Time: 0:00:19\n",
      "因子 LR+1 处理中！\n",
      "\n",
      "100% (91 of 91) |########################| Elapsed Time: 0:01:38 Time:  0:01:38\n",
      "\n",
      "| |#                                                 | 89 Elapsed Time: 0:00:19\n",
      "因子 LR-1 处理中！\n",
      "\n",
      "100% (91 of 91) |########################| Elapsed Time: 0:01:30 Time:  0:01:30\n",
      "\n",
      "| |           #                                      | 89 Elapsed Time: 0:00:18\n",
      "因子 LR+1 处理中！\n",
      "\n",
      "100% (91 of 91) |########################| Elapsed Time: 0:01:38 Time:  0:01:38\n",
      "\n",
      "| |       #                                          | 89 Elapsed Time: 0:00:19\n"
     ]
    }
   ],
   "source": [
    "LR_tail10_obj=factor_analyse1('LR-1',LR_tail10_df)\n",
    "LR_top10_obj=factor_analyse0('LR+1',LR_top10_df)\n",
    "\n",
    "LR_tail20_obj=factor_analyse1('LR-1',LR_tail20_df)\n",
    "LR_top20_obj=factor_analyse0('LR+1',LR_top20_df)\n",
    "\n",
    "LR_tail30_obj=factor_analyse1('LR-1',LR_tail30_df)\n",
    "LR_top30_obj=factor_analyse0('LR+1',LR_top30_df)"
   ]
  },
  {
   "cell_type": "code",
   "execution_count": 51,
   "metadata": {},
   "outputs": [
    {
     "name": "stderr",
     "output_type": "stream",
     "text": [
      "因子 lightgbm+1 处理中！\n",
      "\n",
      "100% (91 of 91) |########################| Elapsed Time: 0:01:41 Time:  0:01:41\n",
      "\n",
      "| |                    #                             | 89 Elapsed Time: 0:00:22\n",
      "因子 lightgbm+1 处理中！\n",
      "\n",
      "100% (91 of 91) |########################| Elapsed Time: 0:01:40 Time:  0:01:40\n",
      "\n",
      "| |                           #                      | 89 Elapsed Time: 0:00:22\n",
      "因子 lightgbm+1 处理中！\n",
      "\n",
      "100% (91 of 91) |########################| Elapsed Time: 0:01:44 Time:  0:01:44\n",
      "\n",
      "| |                             #                    | 89 Elapsed Time: 0:00:22\n"
     ]
    }
   ],
   "source": [
    "lightgbm_pct10_0=factor_analyse('lightgbm+1',lightgbm_pct10_0,1)\n",
    "lightgbm_pct10_1=factor_analyse('lightgbm+1',lightgbm_pct10_1,0)\n",
    "lightgbm_pct10_2=factor_analyse('lightgbm+1',lightgbm_pct10_2,0)"
   ]
  },
  {
   "cell_type": "code",
   "execution_count": null,
   "metadata": {
    "collapsed": true
   },
   "outputs": [],
   "source": [
    "show2(lightgbm_pct10_1)"
   ]
  },
  {
   "cell_type": "code",
   "execution_count": 66,
   "metadata": {},
   "outputs": [
    {
     "data": {
      "text/html": [
       "<div>\n",
       "<style>\n",
       "    .dataframe thead tr:only-child th {\n",
       "        text-align: right;\n",
       "    }\n",
       "\n",
       "    .dataframe thead th {\n",
       "        text-align: left;\n",
       "    }\n",
       "\n",
       "    .dataframe tbody tr th {\n",
       "        vertical-align: top;\n",
       "    }\n",
       "</style>\n",
       "<table border=\"1\" class=\"dataframe\">\n",
       "  <thead>\n",
       "    <tr style=\"text-align: right;\">\n",
       "      <th></th>\n",
       "      <th>年化收益率</th>\n",
       "      <th>最大回撤</th>\n",
       "      <th>月胜率</th>\n",
       "    </tr>\n",
       "  </thead>\n",
       "  <tbody>\n",
       "    <tr>\n",
       "      <th>long_short</th>\n",
       "      <td>-0.000562</td>\n",
       "      <td>0.164557</td>\n",
       "      <td>0.455556</td>\n",
       "    </tr>\n",
       "    <tr>\n",
       "      <th>300_hedge</th>\n",
       "      <td>0.012818</td>\n",
       "      <td>0.402597</td>\n",
       "      <td>0.522222</td>\n",
       "    </tr>\n",
       "    <tr>\n",
       "      <th>500_hedge</th>\n",
       "      <td>0.040336</td>\n",
       "      <td>0.193821</td>\n",
       "      <td>0.555556</td>\n",
       "    </tr>\n",
       "  </tbody>\n",
       "</table>\n",
       "</div>"
      ],
      "text/plain": [
       "               年化收益率      最大回撤       月胜率\n",
       "long_short -0.000562  0.164557  0.455556\n",
       "300_hedge   0.012818  0.402597  0.522222\n",
       "500_hedge   0.040336  0.193821  0.555556"
      ]
     },
     "execution_count": 66,
     "metadata": {},
     "output_type": "execute_result"
    }
   ],
   "source": [
    "show2(lightgbm_pct10_2)"
   ]
  },
  {
   "cell_type": "code",
   "execution_count": null,
   "metadata": {
    "collapsed": true
   },
   "outputs": [],
   "source": [
    "LR_tail10_obj=factor_analyse1('LR-1',LR_tail10_df)\n",
    "LR_top10_obj=factor_analyse0('LR+1',LR_top10_df)"
   ]
  },
  {
   "cell_type": "code",
   "execution_count": 77,
   "metadata": {},
   "outputs": [
    {
     "data": {
      "text/html": [
       "<div>\n",
       "<style>\n",
       "    .dataframe thead tr:only-child th {\n",
       "        text-align: right;\n",
       "    }\n",
       "\n",
       "    .dataframe thead th {\n",
       "        text-align: left;\n",
       "    }\n",
       "\n",
       "    .dataframe tbody tr th {\n",
       "        vertical-align: top;\n",
       "    }\n",
       "</style>\n",
       "<table border=\"1\" class=\"dataframe\">\n",
       "  <thead>\n",
       "    <tr style=\"text-align: right;\">\n",
       "      <th></th>\n",
       "      <th>年化收益率</th>\n",
       "      <th>最大回撤</th>\n",
       "      <th>月胜率</th>\n",
       "    </tr>\n",
       "  </thead>\n",
       "  <tbody>\n",
       "    <tr>\n",
       "      <th>long_short</th>\n",
       "      <td>0.032932</td>\n",
       "      <td>0.119727</td>\n",
       "      <td>0.600000</td>\n",
       "    </tr>\n",
       "    <tr>\n",
       "      <th>300_hedge</th>\n",
       "      <td>0.044345</td>\n",
       "      <td>0.391709</td>\n",
       "      <td>0.588889</td>\n",
       "    </tr>\n",
       "    <tr>\n",
       "      <th>500_hedge</th>\n",
       "      <td>0.059488</td>\n",
       "      <td>0.192934</td>\n",
       "      <td>0.555556</td>\n",
       "    </tr>\n",
       "  </tbody>\n",
       "</table>\n",
       "</div>"
      ],
      "text/plain": [
       "               年化收益率      最大回撤       月胜率\n",
       "long_short  0.032932  0.119727  0.600000\n",
       "300_hedge   0.044345  0.391709  0.588889\n",
       "500_hedge   0.059488  0.192934  0.555556"
      ]
     },
     "execution_count": 77,
     "metadata": {},
     "output_type": "execute_result"
    }
   ],
   "source": [
    "show2(LR_tail20_obj)"
   ]
  },
  {
   "cell_type": "code",
   "execution_count": 78,
   "metadata": {},
   "outputs": [
    {
     "data": {
      "text/html": [
       "<div>\n",
       "<style>\n",
       "    .dataframe thead tr:only-child th {\n",
       "        text-align: right;\n",
       "    }\n",
       "\n",
       "    .dataframe thead th {\n",
       "        text-align: left;\n",
       "    }\n",
       "\n",
       "    .dataframe tbody tr th {\n",
       "        vertical-align: top;\n",
       "    }\n",
       "</style>\n",
       "<table border=\"1\" class=\"dataframe\">\n",
       "  <thead>\n",
       "    <tr style=\"text-align: right;\">\n",
       "      <th></th>\n",
       "      <th>年化收益率</th>\n",
       "      <th>最大回撤</th>\n",
       "      <th>月胜率</th>\n",
       "    </tr>\n",
       "  </thead>\n",
       "  <tbody>\n",
       "    <tr>\n",
       "      <th>long_short</th>\n",
       "      <td>0.037306</td>\n",
       "      <td>0.120424</td>\n",
       "      <td>0.600000</td>\n",
       "    </tr>\n",
       "    <tr>\n",
       "      <th>300_hedge</th>\n",
       "      <td>0.048123</td>\n",
       "      <td>0.362525</td>\n",
       "      <td>0.588889</td>\n",
       "    </tr>\n",
       "    <tr>\n",
       "      <th>500_hedge</th>\n",
       "      <td>0.063070</td>\n",
       "      <td>0.155451</td>\n",
       "      <td>0.555556</td>\n",
       "    </tr>\n",
       "  </tbody>\n",
       "</table>\n",
       "</div>"
      ],
      "text/plain": [
       "               年化收益率      最大回撤       月胜率\n",
       "long_short  0.037306  0.120424  0.600000\n",
       "300_hedge   0.048123  0.362525  0.588889\n",
       "500_hedge   0.063070  0.155451  0.555556"
      ]
     },
     "execution_count": 78,
     "metadata": {},
     "output_type": "execute_result"
    }
   ],
   "source": [
    "show2(LR_top20_obj)"
   ]
  },
  {
   "cell_type": "code",
   "execution_count": 48,
   "metadata": {
    "collapsed": true
   },
   "outputs": [],
   "source": [
    "import alphafactors.factorprepro_class as fp\n",
    "import alphafactors.factoranalyse as fa\n",
    "\n",
    "#因子处理(分成两种方向)\n",
    "def factor_analyse(name,factor,n):  # n=0-positive , n=1-negetive\n",
    "    factor_prepro_obj = fp.FactorPrePro(factor_name=name, factor_data_df=factor, universe='ZZ', neutral_list=None)\n",
    "    factor_prepro_obj.run_process(start_date=max(factor.columns[0], dt.datetime(2007,1,5)), end_date=factor.columns[-1])\n",
    "    df = factor_prepro_obj.factor_pro_df\n",
    "    factor_test_obj = fa.FactorAnalyse(factor_name=name, factor_data_df=df, factor_dr=n)   # 0-positive , 1-negetive\n",
    "    factor_test_obj.run_analyse_new(start_date=dt.datetime(2009,1,23), universe='ZZ')\n",
    "    return factor_test_obj\n",
    "\n",
    "#因子测试画图显示\n",
    "def show1(factor_test_obj):\n",
    "    factor_test_obj.net_value_df.iloc[:,-3:].plot(figsize=(20,10))\n",
    "def show2(factor_test_obj):\n",
    "    factor_test_obj.factor_perform_df\n",
    "    return  factor_test_obj.factor_perform_df\n",
    "def show3(factor_test_obj):\n",
    "    factor_test_obj.factor_para_df\n",
    "    return  factor_test_obj.factor_para_df\n",
    "def show4(factor_test_obj):\n",
    "    factor_test_obj.port_perform_df\n",
    "    return     factor_test_obj.port_perform_df\n",
    "def show5(factor_test_obj):\n",
    "    factor_test_obj.port_perform_df['annual_return'].plot(kind='bar')\n",
    "    return factor_test_obj.port_perform_df['annual_return'].plot(kind='bar')   \n",
    "def show6(factor_test_obj):\n",
    "    factor_test_obj.factor_index_df['IC值'].plot(kind='bar', figsize=(20,10), color='blue')\n",
    "    return  factor_test_obj.factor_index_df['IC值'].plot(kind='bar', figsize=(20,10), color='blue')"
   ]
  },
  {
   "cell_type": "code",
   "execution_count": null,
   "metadata": {
    "collapsed": true
   },
   "outputs": [],
   "source": []
  },
  {
   "cell_type": "code",
   "execution_count": null,
   "metadata": {
    "collapsed": true
   },
   "outputs": [],
   "source": []
  },
  {
   "cell_type": "code",
   "execution_count": null,
   "metadata": {
    "collapsed": true
   },
   "outputs": [],
   "source": []
  },
  {
   "cell_type": "code",
   "execution_count": null,
   "metadata": {
    "collapsed": true
   },
   "outputs": [],
   "source": []
  },
  {
   "cell_type": "code",
   "execution_count": null,
   "metadata": {
    "collapsed": true
   },
   "outputs": [],
   "source": []
  },
  {
   "cell_type": "code",
   "execution_count": null,
   "metadata": {
    "collapsed": true
   },
   "outputs": [],
   "source": []
  },
  {
   "cell_type": "code",
   "execution_count": null,
   "metadata": {
    "collapsed": true
   },
   "outputs": [],
   "source": [
    "import lightgbm as lgb\n",
    "from sklearn.metrics import roc_auc_score\n",
    "\n",
    "def lightgbm(X_train, y_train,X_test, y_test):\n",
    "    lgb_train = lgb.Dataset(X_train, y_train)\n",
    "    lgb_eval = lgb.Dataset(X_test, y_test, reference=lgb_train)\n",
    "    # specify your configurations as a dict\n",
    "    params = {'task': 'train','boosting_type': 'gbdt','metric': {'l2', 'auc'},'num_leaves': 31,'learning_rate': 0.05,'feature_fraction': 0.9,'verbose': 1}\n",
    "    print('Start training...')\n",
    "    # train\n",
    "    gbm = lgb.train(params,lgb_train,num_boost_round=20,valid_sets=lgb_eval,early_stopping_rounds=50)\n",
    "    print('Start predicting...')\n",
    "    # predict\n",
    "    y_pred = gbm.predict(X_test, num_iteration=gbm.best_iteration)\n",
    "    # eval\n",
    "    print(y_pred)\n",
    "    print('The roc of prediction is:', roc_auc_score(y_test, y_pred) )\n",
    "    print('Feature names:', gbm.feature_name())\n",
    "    print('Calculate feature importances...')\n",
    "    # feature importances\n",
    "    print('Feature importances:', list(gbm.feature_importance()))"
   ]
  }
 ],
 "metadata": {
  "kernelspec": {
   "display_name": "Python 3",
   "language": "python",
   "name": "python3"
  },
  "language_info": {
   "codemirror_mode": {
    "name": "ipython",
    "version": 3
   },
   "file_extension": ".py",
   "mimetype": "text/x-python",
   "name": "python",
   "nbconvert_exporter": "python",
   "pygments_lexer": "ipython3",
   "version": "3.6.1"
  }
 },
 "nbformat": 4,
 "nbformat_minor": 2
}
