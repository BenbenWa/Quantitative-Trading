{
 "cells": [
  {
   "cell_type": "code",
   "execution_count": 4,
   "metadata": {
    "collapsed": true
   },
   "outputs": [],
   "source": [
    "import pandas as pd\n",
    "import numpy as np\n",
    "import datetime as dt\n",
    "import daolib.dao as dao\n",
    "import daolib.dso as dso\n",
    "import util.sectool as sectool\n",
    "import matplotlib.pyplot as plt"
   ]
  },
  {
   "cell_type": "code",
   "execution_count": 5,
   "metadata": {
    "collapsed": true
   },
   "outputs": [],
   "source": [
    "%matplotlib inline"
   ]
  },
  {
   "cell_type": "markdown",
   "metadata": {},
   "source": [
    "## 解释变量（以2007年1月-2018年5月为样本期）"
   ]
  },
  {
   "cell_type": "code",
   "execution_count": 6,
   "metadata": {
    "collapsed": true
   },
   "outputs": [],
   "source": [
    "#时间间隔（月/天）\n",
    "trade_date_m_list = dso.get_trade_date(start_date=dt.datetime(2007,1,4), end_date=dt.datetime(2018,8,31), period='m')\n",
    "trade_date_d_list = dso.get_trade_date(start_date=dt.datetime(2007,1,4), end_date=dt.datetime(2018,8,31), period='d')"
   ]
  },
  {
   "cell_type": "code",
   "execution_count": 7,
   "metadata": {
    "collapsed": true
   },
   "outputs": [],
   "source": [
    "#按照行业均值进行填充\n",
    "def fillna_ind_mean(data):\n",
    "    for i in range(1,len(trade_date_m_list)):\n",
    "        resl_series = pd.Series() \n",
    "        industry_series=industry.iloc[:,i]\n",
    "        group_data = industry_series.index.groupby(industry_series.values) \n",
    "        industry_list = list(group_data.keys())   \n",
    "   \n",
    "        data_series=data.iloc[:,i]\n",
    "        for industry_name in industry_list:      \n",
    "            industry_temp = data_series.loc[group_data[industry_name]]\n",
    "            industry_temp = industry_temp.fillna(industry_temp.mean())         \n",
    "            resl_series = resl_series.append(industry_temp)\n",
    "        stock_list = list(set(data_series.index) - set(industry_series.dropna().index))\n",
    "        resl_series = resl_series.append(data_series.loc[stock_list])\n",
    "        data.iloc[:,i]=resl_series\n",
    "    return data"
   ]
  },
  {
   "cell_type": "code",
   "execution_count": 8,
   "metadata": {
    "collapsed": true
   },
   "outputs": [],
   "source": [
    "# RM12\n",
    "#个股每月收益率\n",
    "stock_month_return=sectool.stock_period_return('m', ret_type='close', set_date=None, fwd=False)\n",
    "#个股每日收益率\n",
    "stock_day_return=sectool.stock_period_return('d', ret_type='close', set_date=None, fwd=False)\n",
    "stock_day_return.fillna(method='bfill',axis=1,inplace=True)\n",
    "#市场每月收益率\n",
    "allstock_return=(stock_month_return.apply(lambda x: x.sum()))['2007-01':'2018-08']\n",
    "#市场过去12个月的收益率\n",
    "RM12=allstock_return.rolling(window=12,min_periods=1).sum()\n",
    "#市场过去12个月的收益率\n",
    "RM12=pd.DataFrame(RM12)\n",
    "RM12=RM12.T"
   ]
  },
  {
   "cell_type": "code",
   "execution_count": 9,
   "metadata": {
    "collapsed": true
   },
   "outputs": [],
   "source": [
    "# RM12.isnull()"
   ]
  },
  {
   "cell_type": "code",
   "execution_count": 10,
   "metadata": {
    "collapsed": true
   },
   "outputs": [],
   "source": [
    "#股票行业信息----周频信息\n",
    "industry_class_df=dao.get_stock_industry_data('CS')\n",
    "#股票行业信息----月频信息\n",
    "industry_class_m_df=industry_class_df.loc[:,trade_date_m_list]\n",
    "#按照行进行填充，下一个值\n",
    "industry_class_m_df=industry_class_m_df.fillna(method='bfill',axis=1)\n",
    "\n",
    "industry=industry_class_m_df.reset_index()\n",
    "industry.rename(columns={'index':'stock'}, inplace = True)"
   ]
  },
  {
   "cell_type": "code",
   "execution_count": 11,
   "metadata": {
    "collapsed": true
   },
   "outputs": [],
   "source": [
    "# EXRET12\n",
    "#指数每月收益率\n",
    "index_df=dao.get_index_data('ZZ500')\n",
    "#指数每月收盘价close\n",
    "trade_date_list = dso.get_trade_date(start_date=dt.datetime(2006,1,4), end_date=dt.datetime(2018,8,31), period='m')\n",
    "\n",
    "index_close_month=index_df.loc[:,trade_date_list].xs('close')\n",
    "index_close_month=index_close_month.fillna('bfill')\n",
    "#指数每月收益率\n",
    "index_return=index_close_month/index_close_month.shift(1)-1\n",
    "#指数过去12个月的收益率\n",
    "index_return12=index_return.rolling(window=12,min_periods=1).sum()\n",
    "index_return12==index_return12.fillna(method='bfill')\n",
    "index_return12=index_return12[trade_date_m_list]\n",
    "#个股过去12个月的收益率\n",
    "stock_return12=stock_month_return.rolling(window=12,min_periods=1).sum()\n",
    "# stock_return12.fillna(stock_return12.mean(axis=1,skipna = False),inplace=True)\n",
    "# stock_return12.fillna(stock_return12.mean(),inplace=True)\n",
    "\n",
    "stock_return12=stock_return12.loc[:,trade_date_m_list]\n",
    "#个股过去12个月的超额收益率=个股过去12个月收益率-指数过去12个月收益率\n",
    "EXRET12=stock_return12-index_return12\n",
    "EXRET12=EXRET12.reset_index()\n",
    "EXRET12.rename(columns={'index':'stock'},inplace=True)\n",
    "#按照行业均值填充\n",
    "EXRET12=fillna_ind_mean(EXRET12)\n",
    "EXRET12=EXRET12.fillna(EXRET12.mean())"
   ]
  },
  {
   "cell_type": "code",
   "execution_count": 12,
   "metadata": {
    "collapsed": true
   },
   "outputs": [],
   "source": [
    "# SALE\n",
    "#销售收入同比\n",
    "gr=dao.get_stock_valuation_info('gw_qfa_yoy_gr')\n",
    "# gr=gr.fillna(method='bfill',axis=1)\n",
    "gr=gr.loc[:,trade_date_m_list]\n",
    "SALE=gr.reset_index()\n",
    "SALE.rename(columns={'index':'stock'},inplace=True)\n",
    "SALE=SALE.fillna(SALE.mean(),axis=0)\n",
    "#按照行业均值填充\n",
    "SALE=fillna_ind_mean(SALE)"
   ]
  },
  {
   "cell_type": "code",
   "execution_count": 13,
   "metadata": {
    "collapsed": true
   },
   "outputs": [],
   "source": [
    "# SALE.isnull().any()"
   ]
  },
  {
   "cell_type": "code",
   "execution_count": 14,
   "metadata": {
    "collapsed": true
   },
   "outputs": [],
   "source": [
    "#市值（日频数据）\n",
    "MV_day_df = dao.get_stock_valuation_info('mv')\n",
    "#市值（月频数据）\n",
    "MV_month_df=MV_day_df.loc[:, trade_date_m_list]\n",
    "MV_month_df=MV_month_df.reset_index()\n",
    "MV_month_df.rename(columns={'index':'stock'}, inplace = True)\n",
    "#按照行业均值填充\n",
    "MV_month_df=fillna_ind_mean(MV_month_df)\n",
    "\n",
    "MV_month_df=MV_month_df.fillna(method='bfill',axis=1)\n",
    "# MV_month_df=MV_month_df.fillna(method='ffill',axis=1)"
   ]
  },
  {
   "cell_type": "code",
   "execution_count": 15,
   "metadata": {
    "collapsed": true
   },
   "outputs": [],
   "source": [
    "# MV_month_df\n",
    "# MV_month_df.isnull().any()"
   ]
  },
  {
   "cell_type": "code",
   "execution_count": 16,
   "metadata": {
    "collapsed": true
   },
   "outputs": [],
   "source": [
    "#近半年的日收益率标准差\n",
    "TVOL=stock_day_return.rolling(window=120,min_periods=1).std()\n",
    "TVOL=TVOL.loc[:,trade_date_m_list]\n",
    "TVOL=TVOL.reset_index()\n",
    "TVOL.rename(columns={'index':'stock'}, inplace = True)\n",
    "#均值填充（每列）\n",
    "TVOL=fillna_ind_mean(TVOL)\n",
    "TVOL=TVOL.fillna(TVOL.mean(),axis=0)"
   ]
  },
  {
   "cell_type": "code",
   "execution_count": 17,
   "metadata": {
    "collapsed": true
   },
   "outputs": [],
   "source": [
    "#近半年的日收益率偏度\n",
    "TSKEW=stock_day_return.rolling(window=120,min_periods=1).skew()\n",
    "TSKEW=TSKEW.loc[:,trade_date_m_list]\n",
    "TSKEW=TSKEW.reset_index()\n",
    "TSKEW.rename(columns={'index':'stock'}, inplace = True)\n",
    "#按照行业均值填充\n",
    "TSKEW=fillna_ind_mean(TSKEW)\n",
    "TSKEW=TSKEW.fillna(TSKEW.mean(),axis=0)"
   ]
  },
  {
   "cell_type": "code",
   "execution_count": 18,
   "metadata": {
    "collapsed": true
   },
   "outputs": [],
   "source": [
    "# TSKEW.isnull().any()"
   ]
  },
  {
   "cell_type": "code",
   "execution_count": 19,
   "metadata": {
    "collapsed": true
   },
   "outputs": [],
   "source": [
    "#股票上市的年数\n",
    "AGE=pd.DataFrame()\n",
    "for i in stock_return12.columns:\n",
    "    age=i.year-dao.get_security_info('all_stock_info').iloc[:,-3].dt.year\n",
    "    age=pd.DataFrame(age)\n",
    "    age=age.reset_index()\n",
    "    age.columns=['stock','year']\n",
    "    AGE['STOCK']=age['stock']\n",
    "    AGE[i]=age['year']"
   ]
  },
  {
   "cell_type": "code",
   "execution_count": 20,
   "metadata": {
    "collapsed": true
   },
   "outputs": [],
   "source": [
    "stock_price_df = dao.get_security_info('stock_price_info')\n",
    "#个股月频数据\n",
    "stock_price_df.fillna(method='bfill',axis=1,inplace=True)\n",
    "stock_m =stock_price_df.loc[:, trade_date_m_list]\n",
    "#个股月频换手率\n",
    "turn=stock_price_df.loc[:, trade_date_m_list].xs('turn', level=1)\n",
    "#个股近6个月的月换手率均值-个股近18个月的月换手率均值\n",
    "DTURN=turn.rolling(window=6,min_periods=1).mean()-turn.rolling(window=18,min_periods=1).mean()\n",
    "DTURN=DTURN.reset_index()\n",
    "DTURN.rename(columns={'index':'stock'}, inplace = True)"
   ]
  },
  {
   "cell_type": "code",
   "execution_count": 21,
   "metadata": {
    "collapsed": true
   },
   "outputs": [],
   "source": [
    "# DTURN.isnull().any()"
   ]
  },
  {
   "cell_type": "code",
   "execution_count": 120,
   "metadata": {},
   "outputs": [],
   "source": [
    "#股票涨跌幅（月频数据）\n",
    "pct_chg=stock_price_df.loc[:,trade_date_m_list].xs('close',level=1).pct_change(1, axis=1).shift(-1,axis=1)\n",
    "pct_chg5=stock_price_df.loc[:,trade_date_m_list].xs('close',level=1).pct_change(1, axis=1).shift(-1,axis=1)\n",
    "pct_chg10=stock_price_df.loc[:,trade_date_m_list].xs('close',level=1).pct_change(1, axis=1).shift(-1,axis=1)\n",
    "pct_chg15=stock_price_df.loc[:,trade_date_m_list].xs('close',level=1).pct_change(1, axis=1).shift(-1,axis=1)\n",
    "pct_chg20=stock_price_df.loc[:,trade_date_m_list].xs('close',level=1).pct_change(1, axis=1).shift(-1,axis=1)\n",
    "pct_chg25=stock_price_df.loc[:,trade_date_m_list].xs('close',level=1).pct_change(1, axis=1).shift(-1,axis=1)\n",
    "pct_chg30=stock_price_df.loc[:,trade_date_m_list].xs('close',level=1).pct_change(1, axis=1).shift(-1,axis=1)\n",
    "pct_chg35=stock_price_df.loc[:,trade_date_m_list].xs('close',level=1).pct_change(1, axis=1).shift(-1,axis=1)\n",
    "pct_chg40=stock_price_df.loc[:,trade_date_m_list].xs('close',level=1).pct_change(1, axis=1).shift(-1,axis=1)\n",
    "\n",
    "#以i为阈值\n",
    "def fun(x,i):\n",
    "    if x >= i:\n",
    "        return 1\n",
    "    elif x<=-i:\n",
    "        return -1\n",
    "    else:\n",
    "        return 0\n",
    "\n",
    "for i in pct_chg.columns:\n",
    "   pct_chg5[i]=pct_chg[i].apply(lambda x: fun(x,0.05))\n",
    "   pct_chg10[i]=pct_chg[i].apply(lambda x: fun(x,0.1))\n",
    "   pct_chg15[i]=pct_chg[i].apply(lambda x: fun(x,0.15))\n",
    "   pct_chg20[i]=pct_chg[i].apply(lambda x: fun(x,0.20))\n",
    "   pct_chg25[i]=pct_chg[i].apply(lambda x: fun(x,0.25))\n",
    "   pct_chg30[i]=pct_chg[i].apply(lambda x: fun(x,0.30))\n",
    "   pct_chg35[i]=pct_chg[i].apply(lambda x: fun(x,0.35))\n",
    "   pct_chg40[i]=pct_chg[i].apply(lambda x: fun(x,0.40))\n",
    "\n",
    "def changedataindex(data):\n",
    "    data=data.reset_index()\n",
    "    data=data.rename(columns={'index':'stock'})\n",
    "    return data\n",
    "pct_chg5=changedataindex(pct_chg5)\n",
    "pct_chg10=changedataindex(pct_chg10)\n",
    "pct_chg15=changedataindex(pct_chg15)\n",
    "pct_chg20=changedataindex(pct_chg20)\n",
    "pct_chg25=changedataindex(pct_chg25)\n",
    "pct_chg30=changedataindex(pct_chg30)\n",
    "pct_chg35=changedataindex(pct_chg35)\n",
    "pct_chg40=changedataindex(pct_chg40)"
   ]
  },
  {
   "cell_type": "code",
   "execution_count": 23,
   "metadata": {
    "collapsed": true
   },
   "outputs": [],
   "source": [
    "#个股PE_ttm（滚动市盈率）---月频数据\n",
    "PETTM_day_df = dao.get_stock_valuation_info('ep_ttm')\n",
    "PETTM_day_df.fillna(method='bfill',axis=1,inplace=True)\n",
    "PETTM_day_df.fillna(method='ffill',axis=1,inplace=True)\n",
    "\n",
    "PETTM_day_df_day=PETTM_day_df.loc[:, trade_date_m_list]"
   ]
  },
  {
   "cell_type": "code",
   "execution_count": 24,
   "metadata": {
    "collapsed": true
   },
   "outputs": [],
   "source": [
    "#个股PETTM与行业PETTM的差值（日频数据）\n",
    "EX_PE=pd.DataFrame()\n",
    "for i in PETTM_day_df_day.columns:\n",
    "    #按照行业分类汇总\n",
    "    industry_group=(PETTM_day_df_day[i].groupby(industry_class_m_df[i])).describe().reset_index()\n",
    "    industry_group.columns=['industry','count','industry_pettm_mean','std','min','25%','50%','75%','max']\n",
    "    industry_pettm=industry_group[['industry','industry_pettm_mean']]\n",
    "    #股票和行业匹配\n",
    "    stock_industry=(pd.concat([PETTM_day_df_day[i],industry_class_m_df[i]],axis=1)).reset_index()\n",
    "    stock_industry.columns=['stock','stock_pettm','industry']\n",
    "    pettm=pd.merge(stock_industry,industry_pettm,on='industry')\n",
    "    #个股PETTM与行业PETTM的差值\n",
    "    pettm['PE_TTM']=pettm['stock_pettm']-pettm['industry_pettm_mean']\n",
    "    pettm['PE_TTM'].fillna(method='bfill',inplace=True)\n",
    "    EX_PE['stock']=stock_industry['stock']\n",
    "    EX_PE[i]=pettm['PE_TTM']\n",
    "#月频数据，#按照行业均值填充\n",
    "EX_PE=fillna_ind_mean(EX_PE)\n",
    "EX_PE=EX_PE.fillna(EX_PE.mean())"
   ]
  },
  {
   "cell_type": "code",
   "execution_count": 25,
   "metadata": {
    "collapsed": true
   },
   "outputs": [],
   "source": [
    "# EX_PE.isnull().any()\n",
    "# TSKEW.isnull().any()\n",
    "# TVOL.isnull().any()\n",
    "# MV_month_df.isnull().any()\n",
    "# SALE.isnull().any()\n",
    "# EXRET12.isnull().any()\n",
    "# DTURN.isnull().any()"
   ]
  },
  {
   "cell_type": "code",
   "execution_count": 26,
   "metadata": {
    "collapsed": true
   },
   "outputs": [],
   "source": [
    "industry=industry.fillna('未知')\n",
    "# industry"
   ]
  },
  {
   "cell_type": "code",
   "execution_count": 27,
   "metadata": {
    "collapsed": true
   },
   "outputs": [],
   "source": [
    "# industry"
   ]
  },
  {
   "cell_type": "markdown",
   "metadata": {},
   "source": [
    "## 数据合成"
   ]
  },
  {
   "cell_type": "code",
   "execution_count": 28,
   "metadata": {
    "collapsed": true
   },
   "outputs": [],
   "source": [
    "#数据合成\n",
    "#data15为pct_chg【1，-1】两类数据，alldata15为【1,0，-1】三种分类（用于最后预测集）\n",
    "def datajoin(pct_chg):\n",
    "    data=pd.DataFrame()\n",
    "    alldata=pd.DataFrame()\n",
    "    for i in RM12.columns:\n",
    "         stock_industry=(pd.concat([EX_PE[i],TSKEW[i],TVOL[i],MV_month_df[i],SALE[i],EXRET12[i],RM12[i],DTURN[i],AGE[i],pct_chg[i],industry[i]],axis=1)).reset_index()\n",
    "         stock_industry.columns=['STOCK','EX_PE','TSKEW','TVOL','SIZE','SALE','EXPERT12','RM12','DTURN','AGE','PCT_CHG','INDUSTRY']\n",
    "         stock_industry['STOCK']=TSKEW['stock']\n",
    "         stock_industry['RM12'].fillna(method='ffill',inplace=True)\n",
    "        #训练集删除未上市股票\n",
    "#          stock_industry.drop((stock_industry[stock_industry['AGE']<=0]).index,inplace=True)\n",
    "         stock_industry_group=(stock_industry['PCT_CHG'].groupby(stock_industry['INDUSTRY'])).describe().reset_index()\n",
    "         stock_industry_group.columns=['INDUSTRY','count','mean','std','min','25%','50%','75%','max']\n",
    "         stock_industry_group= stock_industry_group[['INDUSTRY','mean']]\n",
    "         pct=pd.merge(stock_industry,stock_industry_group,on='INDUSTRY')\n",
    "         pct['date']=i\n",
    "         alldata=alldata.append(pct)\n",
    "        #删除行业pct全为0 的股票\n",
    "         pct=pct[~pct['mean'].isin([0])]\n",
    "         pct=pct[~pct['PCT_CHG'].isin([0])]\n",
    "         data=data.append(pct)\n",
    "         #SALE值可能有问题\n",
    "         data['SALE'].fillna(method='bfill',inplace=True)\n",
    "         alldata['SALE'].fillna(method='bfill',inplace=True)\n",
    "    return data,alldata"
   ]
  },
  {
   "cell_type": "code",
   "execution_count": 29,
   "metadata": {
    "collapsed": true
   },
   "outputs": [],
   "source": [
    "data15,alldata15=datajoin(pct_chg15)\n",
    "data20,alldata20=datajoin(pct_chg20)\n",
    "data25,alldata25=datajoin(pct_chg25)\n",
    "data30,alldata30=datajoin(pct_chg30)\n",
    "data35,alldata35=datajoin(pct_chg35)\n",
    "data40,alldata40=datajoin(pct_chg40)"
   ]
  },
  {
   "cell_type": "code",
   "execution_count": 121,
   "metadata": {
    "collapsed": true
   },
   "outputs": [],
   "source": [
    "data5,alldata5=datajoin(pct_chg5)\n",
    "data10,alldata10=datajoin(pct_chg10)"
   ]
  },
  {
   "cell_type": "code",
   "execution_count": 30,
   "metadata": {
    "collapsed": true
   },
   "outputs": [],
   "source": [
    "# alldata15.isnull().any()"
   ]
  },
  {
   "cell_type": "markdown",
   "metadata": {},
   "source": [
    "## 数据处理"
   ]
  },
  {
   "cell_type": "code",
   "execution_count": 31,
   "metadata": {
    "collapsed": true
   },
   "outputs": [],
   "source": [
    "#删除含有空值的行！！！！！谨慎处理（未删除）\n",
    "def datadrop(data):\n",
    "    data=data.dropna(axis=0,how='any')\n",
    "    return data"
   ]
  },
  {
   "cell_type": "code",
   "execution_count": 54,
   "metadata": {
    "collapsed": true
   },
   "outputs": [],
   "source": [
    "#输入data处理（输入九个特征值）\n",
    "def inputdata(data,alldata):\n",
    "    data=data[['STOCK','EX_PE','TSKEW','TVOL','SIZE','SALE','EXPERT12','RM12','DTURN','AGE','PCT_CHG','date']]\n",
    "    alldata=alldata[['STOCK','EX_PE','TSKEW','TVOL','SIZE','SALE','EXPERT12','RM12','DTURN','AGE','PCT_CHG','date']]\n",
    "    #训练集删除未上市股票\n",
    "    data.drop((data[data['AGE']<=0]).index,inplace=True)\n",
    "    data.dropna(inplace=True)\n",
    "    alldata.dropna(inplace=True)\n",
    "\n",
    "    return data,alldata"
   ]
  },
  {
   "cell_type": "code",
   "execution_count": 55,
   "metadata": {},
   "outputs": [],
   "source": [
    "data5,alldata5=inputdata(data5,alldata5)\n",
    "data10,alldata10=inputdata(data10,alldata10)\n",
    "data15,alldata15=inputdata(data15,alldata15)\n",
    "data20,alldata20=inputdata(data20,alldata20)\n",
    "data25,alldata25=inputdata(data25,alldata25)\n",
    "data30,alldata30=inputdata(data30,alldata30)\n",
    "data35,alldata35=inputdata(data35,alldata35)\n",
    "data40,alldata40=inputdata(data40,alldata40)"
   ]
  },
  {
   "cell_type": "code",
   "execution_count": 57,
   "metadata": {
    "collapsed": true
   },
   "outputs": [],
   "source": [
    "#数据标准化\n",
    "def Standard(X_train,X_test):\n",
    "    from sklearn.preprocessing import MinMaxScaler\n",
    "    scaler =MinMaxScaler()\n",
    "    X_train_scaled =scaler.fit_transform(X_train)\n",
    "    X_test_scaled =scaler.fit_transform(X_test)\n",
    "    return  X_train_scaled,X_test_scaled "
   ]
  },
  {
   "cell_type": "markdown",
   "metadata": {},
   "source": [
    "## 划分测试集和实验集"
   ]
  },
  {
   "cell_type": "code",
   "execution_count": 58,
   "metadata": {
    "collapsed": true
   },
   "outputs": [],
   "source": [
    "from sklearn.model_selection import train_test_split"
   ]
  },
  {
   "cell_type": "code",
   "execution_count": 59,
   "metadata": {
    "collapsed": true
   },
   "outputs": [],
   "source": [
    "#划分训练集data，测试集alldata（训练集的类别只有（0,1），测试集包含所有类别（0,1，-1））\n",
    "def Splitdata(data,alldata,i,j,x,y):\n",
    "    #按月份计数\n",
    "    resultdata=(data['STOCK'].groupby(data['date'])).describe()\n",
    "    resultalldata=(alldata['STOCK'].groupby(alldata['date'])).describe()\n",
    "    \n",
    "    resultdata['sum']=resultdata['count'].cumsum()\n",
    "    resultalldata['sum']=resultalldata['count'].cumsum()\n",
    "\n",
    "    i=resultdata['sum'][i]\n",
    "    j=resultdata['sum'][j]\n",
    "    x=resultalldata['sum'][x]\n",
    "    y=resultalldata['sum'][y]\n",
    "     #前i个月,训练集\n",
    "#     X_train=np.array(data[['date','STOCK','EX_PE','TSKEW','TVOL','SIZE','SALE','EXPERT12','RM12','DTURN','AGE']][0:i])\n",
    "#     Y_train=np.array(data['PCT_CHG'][0:i])\n",
    "    #j月-i月\n",
    "    X_train=np.array(data[['date','STOCK','EX_PE','TSKEW','TVOL','SIZE','SALE','EXPERT12','RM12','DTURN','AGE']][j:i])\n",
    "    Y_train=np.array(data['PCT_CHG'][j:i])\n",
    "    #第x个月，测试集\n",
    "    X_test=np.array(alldata[['date','STOCK','EX_PE','TSKEW','TVOL','SIZE','SALE','EXPERT12','RM12','DTURN','AGE']][x:y])\n",
    "    Y_test=np.array(alldata['PCT_CHG'][x:y])\n",
    "\n",
    "    X_train_scaled,X_test_scaled=Standard(X_train[:,2:11],X_test[:,2:11])\n",
    "    return X_train_scaled,X_test_scaled,Y_train,X_test"
   ]
  },
  {
   "cell_type": "code",
   "execution_count": 60,
   "metadata": {
    "collapsed": true
   },
   "outputs": [],
   "source": [
    "def Datacut(i,j,x,y):\n",
    "    X5_train, X5_test, Y5_train, Y5_test=Splitdata(data5,alldata5,i,j,x,y)\n",
    "    X10_train, X10_test, Y10_train, Y10_test=Splitdata(data10,alldata10,i,j,x,y)\n",
    "    X15_train, X15_test, Y15_train, Y15_test=Splitdata(data15,alldata15,i,j,x,y)\n",
    "    X20_train, X20_test, Y20_train, Y20_test=Splitdata(data20,alldata20,i,j,x,y)\n",
    "    X25_train, X25_test, Y25_train, Y25_test=Splitdata(data25,alldata25,i,j,x,y)\n",
    "    X30_train, X30_test, Y30_train, Y30_test=Splitdata(data30,alldata30,i,j,x,y)\n",
    "    X35_train, X35_test, Y35_train, Y35_test=Splitdata(data35,alldata35,i,j,x,y)\n",
    "    X40_train, X40_test, Y40_train, Y40_test=Splitdata(data40,alldata40,i,j,x,y)\n",
    "\n",
    "    return X5_train, X5_test, Y5_train, Y5_test,X10_train, X10_test, Y10_train, Y10_test,X15_train, X15_test, Y15_train, Y15_test,X20_train, X20_test, Y20_train, Y20_test,X25_train, X25_test, Y25_train, Y25_test,X30_train, X30_test, Y30_train, Y30_test,X35_train, X35_test, Y35_train, Y35_test,X40_train, X40_test, Y40_train, Y40_test\n"
   ]
  },
  {
   "cell_type": "code",
   "execution_count": 50,
   "metadata": {
    "collapsed": true
   },
   "outputs": [],
   "source": [
    "# alldata15[alldata15['STOCK']=='600899.SH']\n",
    "# alldata15.isnull().any()"
   ]
  },
  {
   "cell_type": "code",
   "execution_count": 51,
   "metadata": {
    "collapsed": true
   },
   "outputs": [],
   "source": [
    "# 如果某个行业在某个月份除了有类别0，还有类别1 或-1，则对于类别为0的样本，将尽量保留与类别1 或-1 市值最近的样本"
   ]
  },
  {
   "cell_type": "markdown",
   "metadata": {},
   "source": [
    "## 预测概率（2007/1-2018/6）"
   ]
  },
  {
   "cell_type": "code",
   "execution_count": 66,
   "metadata": {
    "scrolled": true
   },
   "outputs": [
    {
     "name": "stderr",
     "output_type": "stream",
     "text": [
      "C:\\Users\\yuanruyi\\Anaconda3\\lib\\site-packages\\sklearn\\utils\\validation.py:429: DataConversionWarning: Data with input dtype object was converted to float64 by MinMaxScaler.\n",
      "  warnings.warn(msg, _DataConversionWarning)\n"
     ]
    }
   ],
   "source": [
    "#从2007年1月为样本起点，从2009年1月来计算因子值，逐月扩展\n",
    "allprobo5_df=[]\n",
    "allprobo10_df=[]\n",
    "allprobo15_df=[]\n",
    "allprobo20_df=[]\n",
    "allprobo25_df=[]\n",
    "allprobo30_df=[]\n",
    "allprobo35_df=[]\n",
    "allprobo40_df=[]\n",
    "\n",
    "for m in range(len(trade_date_m_list)-26):\n",
    "    #训练集（1，-1）    #预测集（全部数据）\n",
    "\n",
    "    X5_train, X5_test, Y5_train, Y5_test,X10_train, X10_test, Y10_train, Y10_test,X15_train, X15_test, Y15_train, Y15_test,X20_train, X20_test, Y20_train, Y20_test,X25_train, X25_test, Y25_train, Y25_test,X30_train, X30_test, Y30_train, Y30_test,X35_train, X35_test, Y35_train, Y35_test,X40_train, X40_test, Y40_train, Y40_test=Datacut(m+23,m,m+23,m+24)\n",
    "    \n",
    "    probo5=LR_probo(X5_train, Y5_train,X5_test,Y5_test,'Crashp1m5','Jackpotp1m5',Y5_test)\n",
    "    probo10=LR_probo(X10_train,Y10_train,X10_test, Y10_test,'Crashp1m10','Jackpotp1m10',Y10_test)\n",
    "    probo15=LR_probo(X15_train, Y15_train,X15_test,Y15_test,'Crashp1m15','Jackpotp1m15',Y15_test)\n",
    "    probo20=LR_probo(X20_train, Y20_train,X20_test,Y20_test,'Crashp1m20','Jackpotp1m20',Y20_test)\n",
    "    probo25=LR_probo(X25_train, Y25_train,X25_test,Y25_test,'Crashp1m25','Jackpotp1m25',Y25_test)\n",
    "    probo30=LR_probo(X30_train, Y30_train,X30_test,Y30_test,'Crashp1m30','Jackpotp1m30',Y30_test)\n",
    "    probo35=LR_probo(X35_train, Y35_train,X35_test,Y35_test,'Crashp1m35','Jackpotp1m35',Y35_test)\n",
    "    probo40=LR_probo(X40_train, Y40_train,X40_test,Y40_test,'Crashp1m40','Jackpotp1m40',Y40_test)\n",
    " \n",
    "    allprobo5_df.append(probo5)\n",
    "    allprobo10_df.append(probo10)\n",
    "    allprobo15_df.append(probo15)\n",
    "    allprobo20_df.append(probo20)\n",
    "    allprobo25_df.append(probo25)\n",
    "    allprobo30_df.append(probo30)\n",
    "    allprobo35_df.append(probo35)\n",
    "    allprobo40_df.append(probo40)"
   ]
  },
  {
   "cell_type": "markdown",
   "metadata": {},
   "source": [
    "## 逻辑回归"
   ]
  },
  {
   "cell_type": "code",
   "execution_count": 62,
   "metadata": {
    "collapsed": true
   },
   "outputs": [],
   "source": [
    "from sklearn.linear_model import LogisticRegression      \n",
    "\n",
    "#预测准确率\n",
    "def LR(X_train,Y_train,X_test,Y_test):\n",
    "    logreg =LogisticRegression(C=1).fit(X_train,Y_train)\n",
    "    train_score=logreg.score(X_train,Y_train)\n",
    "    test_score=logreg.score(X_test,Y_test)\n",
    "#     print('Accuracy of LR classifier on train set:{:.3f}'.format(logreg.score(X_train,Y_train)))\n",
    "#     print('Accuracy of LR classifier on test set:{:.3f}'.format(logreg.score(X_test,Y_test)))\n",
    "    return  train_score,test_score\n",
    "\n",
    "#预测概率值（没有Y_test来检验）\n",
    "def LR_probo(X_train, Y_train,X_test,Y_test,columns1,columns2,X1_test):\n",
    "    clf = LogisticRegression()  \n",
    "    clf.fit(X_train, Y_train)  \n",
    "    #   返回预测标签  \n",
    "#     print(clf.predict(X_test))  \n",
    "    probo=clf.predict_proba(X_test)\n",
    "    # 返回预测属于某标签的概率  \n",
    "    probo=pd.DataFrame(probo,columns=[columns1,columns2])\n",
    "    probo['STOCK']=X1_test[:,1]\n",
    "    probo['date']=X1_test[:,0]\n",
    "#     probo['PCT_CHG']=Y_test\n",
    "    return probo"
   ]
  },
  {
   "cell_type": "markdown",
   "metadata": {},
   "source": [
    "## 因子DataFrame合成"
   ]
  },
  {
   "cell_type": "code",
   "execution_count": 67,
   "metadata": {
    "collapsed": true
   },
   "outputs": [],
   "source": [
    "import itertools\n",
    "#从2009/1-2018/3\n",
    "date=trade_date_m_list[24:-2]\n",
    "\n",
    "def create_factor(AGE):\n",
    "    data=pd.DataFrame(columns=date)\n",
    "    data['STOCK']=AGE['STOCK']\n",
    "    return data\n",
    "\n",
    "def create_factor_df(i,t, factor_df,temp,j):\n",
    "    u=i.iloc[:,[j,2]]\n",
    "    u.columns=[t,'STOCK']\n",
    "    factor=pd.concat([u,temp],join='inner',ignore_index=True)\n",
    "    factor.sort_values(t,inplace=True)\n",
    "    factor.drop_duplicates(['STOCK'],inplace=True)\n",
    "    factor.sort_values('STOCK',inplace=True)\n",
    "    factor.reset_index(inplace=True)\n",
    "    factor_df[t]= factor[t]\n",
    "    return  factor_df\n",
    "\n",
    "def change(data):\n",
    "    factor_Crash_df=create_factor(AGE)\n",
    "    factor_Jackpop_df=create_factor(AGE)\n",
    "    for i,t in itertools.zip_longest(data,date):\n",
    "        temp=AGE[['STOCK']]\n",
    "        temp[t]=np.nan\n",
    "        factor_Crash_df=create_factor_df(i,t,factor_Crash_df,temp,0)\n",
    "        factor_Jackpop_df=create_factor_df(i,t,factor_Jackpop_df,temp,1)\n",
    "    return factor_Crash_df,factor_Jackpop_df\n",
    "\n",
    "def changeindex(data):\n",
    "    factor_Crash_df,factor_Jackpop_df=change(data)\n",
    "    factor_Crash_df=factor_Crash_df.set_index(['STOCK'])\n",
    "    factor_Jackpop_df=factor_Jackpop_df.set_index(['STOCK'])\n",
    "    return  factor_Crash_df,factor_Jackpop_df"
   ]
  },
  {
   "cell_type": "code",
   "execution_count": 68,
   "metadata": {},
   "outputs": [
    {
     "name": "stderr",
     "output_type": "stream",
     "text": [
      "C:\\Users\\yuanruyi\\Anaconda3\\lib\\site-packages\\ipykernel_launcher.py:26: SettingWithCopyWarning: \n",
      "A value is trying to be set on a copy of a slice from a DataFrame.\n",
      "Try using .loc[row_indexer,col_indexer] = value instead\n",
      "\n",
      "See the caveats in the documentation: http://pandas.pydata.org/pandas-docs/stable/indexing.html#indexing-view-versus-copy\n"
     ]
    }
   ],
   "source": [
    "factor_Crash_df5,factor_Jackpop_df5=changeindex(allprobo5_df)\n",
    "factor_Crash_df10,factor_Jackpop_df10=changeindex(allprobo10_df)\n",
    "factor_Crash_df15,factor_Jackpop_df15=changeindex(allprobo15_df)\n",
    "factor_Crash_df20,factor_Jackpop_df20=changeindex(allprobo20_df)\n",
    "factor_Crash_df25,factor_Jackpop_df25=changeindex(allprobo25_df)\n",
    "factor_Crash_df30,factor_Jackpop_df30=changeindex(allprobo30_df)\n",
    "factor_Crash_df35,factor_Jackpop_df35=changeindex(allprobo35_df)\n",
    "factor_Crash_df40,factor_Jackpop_df40=changeindex(allprobo40_df)"
   ]
  },
  {
   "cell_type": "markdown",
   "metadata": {},
   "source": [
    "## 因子检测"
   ]
  },
  {
   "cell_type": "markdown",
   "metadata": {},
   "source": [
    "#### 因子显著度T检验"
   ]
  },
  {
   "cell_type": "code",
   "execution_count": 126,
   "metadata": {},
   "outputs": [],
   "source": [
    "import util.factortool as ftool\n",
    "def factor_test_T(factor_list,factor_name): \n",
    "    risk_test=pd.DataFrame()\n",
    "    for i ,n in itertools.zip_longest(factor_list,factor_name):\n",
    "        risk_test[n]=ftool.factor_risk_test_tvalue(i)\n",
    "    return  risk_test\n",
    "factor_list=[factor_Crash_df5,factor_Jackpop_df5,factor_Crash_df10,factor_Jackpop_df10,factor_Crash_df15,factor_Jackpop_df15,factor_Crash_df20,factor_Jackpop_df20,factor_Crash_df25,factor_Jackpop_df25,factor_Crash_df30,factor_Jackpop_df30,factor_Crash_df35,factor_Jackpop_df35,factor_Crash_df40,factor_Jackpop_df40]\n",
    "factor_name=['factor_Crash_df5','factor_Jackpop_df5','factor_Crash_df10','factor_Jackpop_df10','factor_Crash_df15','factor_Jackpop_df15','factor_Crash_df20','factor_Jackpop_df20','factor_Crash_df25','factor_Jackpop_df25','factor_Crash_df30','factor_Jackpop_df30','factor_Crash_df35','factor_Jackpop_df35','factor_Crash_df40','factor_Jackpop_df40']\n",
    "    \n",
    "risk_test=factor_test_T(factor_list,factor_name)"
   ]
  },
  {
   "cell_type": "code",
   "execution_count": 127,
   "metadata": {},
   "outputs": [
    {
     "data": {
      "text/html": [
       "<div>\n",
       "<style>\n",
       "    .dataframe thead tr:only-child th {\n",
       "        text-align: right;\n",
       "    }\n",
       "\n",
       "    .dataframe thead th {\n",
       "        text-align: left;\n",
       "    }\n",
       "\n",
       "    .dataframe tbody tr th {\n",
       "        vertical-align: top;\n",
       "    }\n",
       "</style>\n",
       "<table border=\"1\" class=\"dataframe\">\n",
       "  <thead>\n",
       "    <tr style=\"text-align: right;\">\n",
       "      <th></th>\n",
       "      <th>factor_Crash_df5</th>\n",
       "      <th>factor_Jackpop_df5</th>\n",
       "      <th>factor_Crash_df10</th>\n",
       "      <th>factor_Jackpop_df10</th>\n",
       "      <th>factor_Crash_df15</th>\n",
       "      <th>factor_Jackpop_df15</th>\n",
       "      <th>factor_Crash_df20</th>\n",
       "      <th>factor_Jackpop_df20</th>\n",
       "      <th>factor_Crash_df25</th>\n",
       "      <th>factor_Jackpop_df25</th>\n",
       "      <th>factor_Crash_df30</th>\n",
       "      <th>factor_Jackpop_df30</th>\n",
       "      <th>factor_Crash_df35</th>\n",
       "      <th>factor_Jackpop_df35</th>\n",
       "      <th>factor_Crash_df40</th>\n",
       "      <th>factor_Jackpop_df40</th>\n",
       "    </tr>\n",
       "  </thead>\n",
       "  <tbody>\n",
       "    <tr>\n",
       "      <th>risk_beta</th>\n",
       "      <td>0.072363</td>\n",
       "      <td>-0.072363</td>\n",
       "      <td>0.308778</td>\n",
       "      <td>-0.308778</td>\n",
       "      <td>0.438389</td>\n",
       "      <td>-0.438389</td>\n",
       "      <td>0.450182</td>\n",
       "      <td>-0.450182</td>\n",
       "      <td>0.409898</td>\n",
       "      <td>-0.409898</td>\n",
       "      <td>0.469346</td>\n",
       "      <td>-0.469346</td>\n",
       "      <td>0.943137</td>\n",
       "      <td>-0.943137</td>\n",
       "      <td>0.576169</td>\n",
       "      <td>-0.576169</td>\n",
       "    </tr>\n",
       "    <tr>\n",
       "      <th>risk_mv</th>\n",
       "      <td>-0.426322</td>\n",
       "      <td>0.426322</td>\n",
       "      <td>-0.769990</td>\n",
       "      <td>0.769990</td>\n",
       "      <td>-1.169175</td>\n",
       "      <td>1.169175</td>\n",
       "      <td>-0.774992</td>\n",
       "      <td>0.774992</td>\n",
       "      <td>-0.466786</td>\n",
       "      <td>0.466786</td>\n",
       "      <td>0.081436</td>\n",
       "      <td>-0.081436</td>\n",
       "      <td>-0.708007</td>\n",
       "      <td>0.708007</td>\n",
       "      <td>-1.208534</td>\n",
       "      <td>1.208534</td>\n",
       "    </tr>\n",
       "    <tr>\n",
       "      <th>risk_bp</th>\n",
       "      <td>0.065286</td>\n",
       "      <td>-0.065286</td>\n",
       "      <td>-0.011216</td>\n",
       "      <td>0.011216</td>\n",
       "      <td>-0.021328</td>\n",
       "      <td>0.021328</td>\n",
       "      <td>0.053415</td>\n",
       "      <td>-0.053415</td>\n",
       "      <td>0.513290</td>\n",
       "      <td>-0.513290</td>\n",
       "      <td>0.567647</td>\n",
       "      <td>-0.567647</td>\n",
       "      <td>-0.197436</td>\n",
       "      <td>0.197436</td>\n",
       "      <td>0.098815</td>\n",
       "      <td>-0.098815</td>\n",
       "    </tr>\n",
       "    <tr>\n",
       "      <th>risk_mom</th>\n",
       "      <td>-0.280497</td>\n",
       "      <td>0.280497</td>\n",
       "      <td>-0.199501</td>\n",
       "      <td>0.199501</td>\n",
       "      <td>-0.093108</td>\n",
       "      <td>0.093108</td>\n",
       "      <td>0.042431</td>\n",
       "      <td>-0.042431</td>\n",
       "      <td>-0.202554</td>\n",
       "      <td>0.202554</td>\n",
       "      <td>-0.530828</td>\n",
       "      <td>0.530828</td>\n",
       "      <td>-0.580977</td>\n",
       "      <td>0.580977</td>\n",
       "      <td>-0.327841</td>\n",
       "      <td>0.327841</td>\n",
       "    </tr>\n",
       "    <tr>\n",
       "      <th>risk_ey</th>\n",
       "      <td>-0.003204</td>\n",
       "      <td>0.003204</td>\n",
       "      <td>-0.040134</td>\n",
       "      <td>0.040134</td>\n",
       "      <td>0.051753</td>\n",
       "      <td>-0.051753</td>\n",
       "      <td>0.115714</td>\n",
       "      <td>-0.115714</td>\n",
       "      <td>0.100113</td>\n",
       "      <td>-0.100113</td>\n",
       "      <td>0.196853</td>\n",
       "      <td>-0.196853</td>\n",
       "      <td>0.566582</td>\n",
       "      <td>-0.566582</td>\n",
       "      <td>0.545724</td>\n",
       "      <td>-0.545724</td>\n",
       "    </tr>\n",
       "    <tr>\n",
       "      <th>risk_lev</th>\n",
       "      <td>0.114040</td>\n",
       "      <td>-0.114040</td>\n",
       "      <td>-0.161340</td>\n",
       "      <td>0.161340</td>\n",
       "      <td>-0.274383</td>\n",
       "      <td>0.274383</td>\n",
       "      <td>-0.022629</td>\n",
       "      <td>0.022629</td>\n",
       "      <td>0.244339</td>\n",
       "      <td>-0.244339</td>\n",
       "      <td>0.675481</td>\n",
       "      <td>-0.675481</td>\n",
       "      <td>1.161428</td>\n",
       "      <td>-1.161428</td>\n",
       "      <td>2.168548</td>\n",
       "      <td>-2.168548</td>\n",
       "    </tr>\n",
       "    <tr>\n",
       "      <th>risk_liq</th>\n",
       "      <td>0.143376</td>\n",
       "      <td>-0.143376</td>\n",
       "      <td>-0.087848</td>\n",
       "      <td>0.087848</td>\n",
       "      <td>-0.213952</td>\n",
       "      <td>0.213952</td>\n",
       "      <td>-0.196102</td>\n",
       "      <td>0.196102</td>\n",
       "      <td>-0.219480</td>\n",
       "      <td>0.219480</td>\n",
       "      <td>-0.456907</td>\n",
       "      <td>0.456907</td>\n",
       "      <td>-1.429913</td>\n",
       "      <td>1.429913</td>\n",
       "      <td>-1.638896</td>\n",
       "      <td>1.638896</td>\n",
       "    </tr>\n",
       "    <tr>\n",
       "      <th>risk_gro</th>\n",
       "      <td>0.502882</td>\n",
       "      <td>-0.502882</td>\n",
       "      <td>0.870009</td>\n",
       "      <td>-0.870009</td>\n",
       "      <td>1.096074</td>\n",
       "      <td>-1.096074</td>\n",
       "      <td>0.811413</td>\n",
       "      <td>-0.811413</td>\n",
       "      <td>0.157121</td>\n",
       "      <td>-0.157121</td>\n",
       "      <td>-0.076138</td>\n",
       "      <td>0.076138</td>\n",
       "      <td>0.303578</td>\n",
       "      <td>-0.303578</td>\n",
       "      <td>-0.239472</td>\n",
       "      <td>0.239472</td>\n",
       "    </tr>\n",
       "    <tr>\n",
       "      <th>risk_vol</th>\n",
       "      <td>0.581969</td>\n",
       "      <td>-0.581969</td>\n",
       "      <td>0.681749</td>\n",
       "      <td>-0.681749</td>\n",
       "      <td>0.698597</td>\n",
       "      <td>-0.698597</td>\n",
       "      <td>0.603888</td>\n",
       "      <td>-0.603888</td>\n",
       "      <td>0.640882</td>\n",
       "      <td>-0.640882</td>\n",
       "      <td>0.846844</td>\n",
       "      <td>-0.846844</td>\n",
       "      <td>1.097716</td>\n",
       "      <td>-1.097716</td>\n",
       "      <td>0.626245</td>\n",
       "      <td>-0.626245</td>\n",
       "    </tr>\n",
       "    <tr>\n",
       "      <th>risk_nlmv</th>\n",
       "      <td>-0.398218</td>\n",
       "      <td>0.398218</td>\n",
       "      <td>-0.307945</td>\n",
       "      <td>0.307945</td>\n",
       "      <td>-0.278785</td>\n",
       "      <td>0.278785</td>\n",
       "      <td>-0.161383</td>\n",
       "      <td>0.161383</td>\n",
       "      <td>-0.310486</td>\n",
       "      <td>0.310486</td>\n",
       "      <td>-0.015455</td>\n",
       "      <td>0.015455</td>\n",
       "      <td>0.062132</td>\n",
       "      <td>-0.062132</td>\n",
       "      <td>-0.905319</td>\n",
       "      <td>0.905319</td>\n",
       "    </tr>\n",
       "  </tbody>\n",
       "</table>\n",
       "</div>"
      ],
      "text/plain": [
       "           factor_Crash_df5  factor_Jackpop_df5  factor_Crash_df10  \\\n",
       "risk_beta          0.072363           -0.072363           0.308778   \n",
       "risk_mv           -0.426322            0.426322          -0.769990   \n",
       "risk_bp            0.065286           -0.065286          -0.011216   \n",
       "risk_mom          -0.280497            0.280497          -0.199501   \n",
       "risk_ey           -0.003204            0.003204          -0.040134   \n",
       "risk_lev           0.114040           -0.114040          -0.161340   \n",
       "risk_liq           0.143376           -0.143376          -0.087848   \n",
       "risk_gro           0.502882           -0.502882           0.870009   \n",
       "risk_vol           0.581969           -0.581969           0.681749   \n",
       "risk_nlmv         -0.398218            0.398218          -0.307945   \n",
       "\n",
       "           factor_Jackpop_df10  factor_Crash_df15  factor_Jackpop_df15  \\\n",
       "risk_beta            -0.308778           0.438389            -0.438389   \n",
       "risk_mv               0.769990          -1.169175             1.169175   \n",
       "risk_bp               0.011216          -0.021328             0.021328   \n",
       "risk_mom              0.199501          -0.093108             0.093108   \n",
       "risk_ey               0.040134           0.051753            -0.051753   \n",
       "risk_lev              0.161340          -0.274383             0.274383   \n",
       "risk_liq              0.087848          -0.213952             0.213952   \n",
       "risk_gro             -0.870009           1.096074            -1.096074   \n",
       "risk_vol             -0.681749           0.698597            -0.698597   \n",
       "risk_nlmv             0.307945          -0.278785             0.278785   \n",
       "\n",
       "           factor_Crash_df20  factor_Jackpop_df20  factor_Crash_df25  \\\n",
       "risk_beta           0.450182            -0.450182           0.409898   \n",
       "risk_mv            -0.774992             0.774992          -0.466786   \n",
       "risk_bp             0.053415            -0.053415           0.513290   \n",
       "risk_mom            0.042431            -0.042431          -0.202554   \n",
       "risk_ey             0.115714            -0.115714           0.100113   \n",
       "risk_lev           -0.022629             0.022629           0.244339   \n",
       "risk_liq           -0.196102             0.196102          -0.219480   \n",
       "risk_gro            0.811413            -0.811413           0.157121   \n",
       "risk_vol            0.603888            -0.603888           0.640882   \n",
       "risk_nlmv          -0.161383             0.161383          -0.310486   \n",
       "\n",
       "           factor_Jackpop_df25  factor_Crash_df30  factor_Jackpop_df30  \\\n",
       "risk_beta            -0.409898           0.469346            -0.469346   \n",
       "risk_mv               0.466786           0.081436            -0.081436   \n",
       "risk_bp              -0.513290           0.567647            -0.567647   \n",
       "risk_mom              0.202554          -0.530828             0.530828   \n",
       "risk_ey              -0.100113           0.196853            -0.196853   \n",
       "risk_lev             -0.244339           0.675481            -0.675481   \n",
       "risk_liq              0.219480          -0.456907             0.456907   \n",
       "risk_gro             -0.157121          -0.076138             0.076138   \n",
       "risk_vol             -0.640882           0.846844            -0.846844   \n",
       "risk_nlmv             0.310486          -0.015455             0.015455   \n",
       "\n",
       "           factor_Crash_df35  factor_Jackpop_df35  factor_Crash_df40  \\\n",
       "risk_beta           0.943137            -0.943137           0.576169   \n",
       "risk_mv            -0.708007             0.708007          -1.208534   \n",
       "risk_bp            -0.197436             0.197436           0.098815   \n",
       "risk_mom           -0.580977             0.580977          -0.327841   \n",
       "risk_ey             0.566582            -0.566582           0.545724   \n",
       "risk_lev            1.161428            -1.161428           2.168548   \n",
       "risk_liq           -1.429913             1.429913          -1.638896   \n",
       "risk_gro            0.303578            -0.303578          -0.239472   \n",
       "risk_vol            1.097716            -1.097716           0.626245   \n",
       "risk_nlmv           0.062132            -0.062132          -0.905319   \n",
       "\n",
       "           factor_Jackpop_df40  \n",
       "risk_beta            -0.576169  \n",
       "risk_mv               1.208534  \n",
       "risk_bp              -0.098815  \n",
       "risk_mom              0.327841  \n",
       "risk_ey              -0.545724  \n",
       "risk_lev             -2.168548  \n",
       "risk_liq              1.638896  \n",
       "risk_gro              0.239472  \n",
       "risk_vol             -0.626245  \n",
       "risk_nlmv             0.905319  "
      ]
     },
     "execution_count": 127,
     "metadata": {},
     "output_type": "execute_result"
    }
   ],
   "source": [
    "# risk_test"
   ]
  },
  {
   "cell_type": "code",
   "execution_count": 128,
   "metadata": {},
   "outputs": [],
   "source": [
    "# 因子保存\n",
    "import pickle\n",
    "\n",
    "factor_Crash_df5.to_pickle(\"./factor_test_data/LR_TEST/factor_Crash_df5\")\n",
    "factor_Crash_df10.to_pickle(\"./factor_test_data/LR_TEST/factor_Crash_df10\")\n",
    "factor_Crash_df15.to_pickle(\"./factor_test_data/LR_TEST/factor_Crash_df15\")\n",
    "factor_Crash_df20.to_pickle(\"./factor_test_data/LR_TEST/factor_Crash_df20\")\n",
    "factor_Crash_df25.to_pickle(\"./factor_test_data/LR_TEST/factor_Crash_df25\")\n",
    "factor_Crash_df30.to_pickle(\"./factor_test_data/LR_TEST/factor_Crash_df30\")\n",
    "factor_Crash_df35.to_pickle(\"./factor_test_data/LR_TEST/factor_Crash_df35\")\n",
    "factor_Crash_df40.to_pickle(\"./factor_test_data/LR_TEST/factor_Crash_df40\")\n",
    "\n",
    "factor_Jackpop_df5.to_pickle(\"./factor_test_data/LR_TEST/factor_Jackpop_df5\")\n",
    "factor_Jackpop_df10.to_pickle(\"./factor_test_data/LR_TEST/factor_Jackpop_df10\")\n",
    "factor_Jackpop_df15.to_pickle(\"./factor_test_data/LR_TEST/factor_Jackpop_df15\")\n",
    "factor_Jackpop_df20.to_pickle(\"./factor_test_data/LR_TEST/factor_Jackpop_df20\")\n",
    "factor_Jackpop_df25.to_pickle(\"./factor_test_data/LR_TEST/factor_Jackpop_df25\")\n",
    "factor_Jackpop_df30.to_pickle(\"./factor_test_data/LR_TEST/factor_Jackpop_df30\")\n",
    "factor_Jackpop_df35.to_pickle(\"./factor_test_data/LR_TEST/factor_Jackpop_df35\")\n",
    "factor_Jackpop_df40.to_pickle(\"./factor_test_data/LR_TEST/factor_Jackpop_df40\")\n",
    "\n",
    "# u=open(\"./factor_test_data/LR_TEST/factor_Crash_df15\",\"rb+\")\n",
    "# v=open(\"./factor_test_data/LR_TEST/factor_Jackpop_df15\",\"rb+\")\n",
    "# pickle.load(u)"
   ]
  },
  {
   "cell_type": "code",
   "execution_count": 73,
   "metadata": {
    "collapsed": true
   },
   "outputs": [],
   "source": [
    "#因子处理\n",
    "import alphafactors.factorprepro_class as fp\n",
    "import alphafactors.factoranalyse as fa\n",
    "\n",
    "def factor_analyse0(name,factor):\n",
    "    factor_prepro_obj = fp.FactorPrePro(factor_name=name, factor_data_df=factor, universe='ZZ', neutral_list=['risk_mv'])\n",
    "    factor_prepro_obj.run_process(start_date=max(factor.columns[0], dt.datetime(2007,1,5)), end_date=factor.columns[-1])\n",
    "    df = factor_prepro_obj.factor_pro_df\n",
    "    factor_test_obj = fa.FactorAnalyse(factor_name=name, factor_data_df=df, factor_dr=0)   # 0-positive , 1-negetive\n",
    "    factor_test_obj.run_analyse_new(start_date=dt.datetime(2009,1,23), universe='ZZ')\n",
    "    return factor_test_obj\n",
    "#因子处理\n",
    "def factor_analyse1(name,factor):\n",
    "    factor_prepro_obj = fp.FactorPrePro(factor_name=name, factor_data_df=factor, universe='ZZ', neutral_list=['risk_mv'])\n",
    "    factor_prepro_obj.run_process(start_date=max(factor.columns[0], dt.datetime(2007,1,5)), end_date=factor.columns[-1])\n",
    "    df = factor_prepro_obj.factor_pro_df\n",
    "    factor_test_obj = fa.FactorAnalyse(factor_name=name, factor_data_df=df, factor_dr=1)   # 0-positive , 1-negetive\n",
    "    factor_test_obj.run_analyse_new(start_date=dt.datetime(2009,1,23), universe='ZZ')\n",
    "    return factor_test_obj\n",
    "\n",
    "#因子测试画图显示\n",
    "def show1(factor_test_obj):\n",
    "    factor_test_obj.net_value_df.iloc[:,-3:].plot(figsize=(20,10))\n",
    "def show2(factor_test_obj):\n",
    "    factor_test_obj.factor_perform_df\n",
    "    return  factor_test_obj.factor_perform_df\n",
    "def show3(factor_test_obj):\n",
    "    factor_test_obj.factor_para_df\n",
    "    return  factor_test_obj.factor_para_df\n",
    "def show4(factor_test_obj):\n",
    "    factor_test_obj.port_perform_df\n",
    "    return  factor_test_obj.port_perform_df\n",
    "def show5(factor_test_obj):\n",
    "    factor_test_obj.port_perform_df['annual_return'].plot(kind='bar')\n",
    "    return factor_test_obj.port_perform_df['annual_return'].plot(kind='bar')   \n",
    "def show6(factor_test_obj):\n",
    "    factor_test_obj.factor_index_df['IC值'].plot(kind='bar', figsize=(20,10), color='blue')\n",
    "    return  factor_test_obj.factor_index_df['IC值'].plot(kind='bar', figsize=(20,10), color='blue')"
   ]
  },
  {
   "cell_type": "code",
   "execution_count": 181,
   "metadata": {},
   "outputs": [
    {
     "name": "stderr",
     "output_type": "stream",
     "text": [
      "因子 Crashp1m40 处理中！\n",
      "\n",
      "100% (114 of 114) |######################| Elapsed Time: 0:01:01 Time:  0:01:01\n",
      "\n",
      "| |                #                                | 112 Elapsed Time: 0:00:21\n"
     ]
    }
   ],
   "source": [
    "factor_test_obj5=factor_analyse1('Crashp1m5',factor_Crash_df5)\n",
    "factor_test_obj10=factor_analyse1('Crashp1m10',factor_Crash_df10)\n",
    "factor_test_obj15=factor_analyse1('Crashp1m15',factor_Crash_df15)\n",
    "factor_test_obj20=factor_analyse1('Crashp1m20',factor_Crash_df20)\n",
    "factor_test_obj25=factor_analyse1('Crashp1m25',factor_Crash_df25)\n",
    "factor_test_obj30=factor_analyse1('Crashp1m30',factor_Crash_df30)\n",
    "factor_test_obj35=factor_analyse1('Crashp1m35',factor_Crash_df35)\n",
    "factor_test_obj40=factor_analyse0('Crashp1m40',factor_Crash_df40)"
   ]
  },
  {
   "cell_type": "code",
   "execution_count": 186,
   "metadata": {},
   "outputs": [
    {
     "name": "stderr",
     "output_type": "stream",
     "text": [
      "因子 Jackpop1m40 处理中！\n",
      "\n",
      "100% (114 of 114) |######################| Elapsed Time: 0:01:07 Time:  0:01:07\n",
      "\n",
      "| |                                     #           | 112 Elapsed Time: 0:00:23\n"
     ]
    }
   ],
   "source": [
    "factor_test_obj5j=factor_analyse0('Jackpop1m5',factor_Jackpop_df5,)\n",
    "factor_test_obj10j=factor_analyse0('Jackpop1m10',factor_Jackpop_df10,)\n",
    "factor_test_obj15j=factor_analyse0('Jackpop1m15',factor_Jackpop_df15,)\n",
    "factor_test_obj20j=factor_analyse0('Jackpop1m20',factor_Jackpop_df20,)\n",
    "factor_test_obj25j=factor_analyse0('Jackpop1m25',factor_Jackpop_df25,)\n",
    "factor_test_obj30j=factor_analyse0('Jackpop1m30',factor_Jackpop_df30,)\n",
    "factor_test_obj35j=factor_analyse0('Jackpop1m35',factor_Jackpop_df35,)\n",
    "factor_test_obj40j=factor_analyse0('Jackpop1m40',factor_Jackpop_df40,)"
   ]
  },
  {
   "cell_type": "markdown",
   "metadata": {},
   "source": [
    "## Crashp1m5"
   ]
  },
  {
   "cell_type": "code",
   "execution_count": 178,
   "metadata": {},
   "outputs": [
    {
     "data": {
      "image/png": "[encoded data removed]",
      "text/plain": [
       "<matplotlib.figure.Figure at 0x1badcb31e48>"
      ]
     },
     "metadata": {},
     "output_type": "display_data"
    }
   ],
   "source": [
    "show1(factor_test_obj5)\n"
   ]
  },
  {
   "cell_type": "markdown",
   "metadata": {},
   "source": [
    "## Crashp1m10"
   ]
  },
  {
   "cell_type": "code",
   "execution_count": 179,
   "metadata": {},
   "outputs": [
    {
     "data": {
      "text/html": [
       "<div>\n",
       "<style>\n",
       "    .dataframe thead tr:only-child th {\n",
       "        text-align: right;\n",
       "    }\n",
       "\n",
       "    .dataframe thead th {\n",
       "        text-align: left;\n",
       "    }\n",
       "\n",
       "    .dataframe tbody tr th {\n",
       "        vertical-align: top;\n",
       "    }\n",
       "</style>\n",
       "<table border=\"1\" class=\"dataframe\">\n",
       "  <thead>\n",
       "    <tr style=\"text-align: right;\">\n",
       "      <th></th>\n",
       "      <th>年化收益率</th>\n",
       "      <th>最大回撤</th>\n",
       "      <th>月胜率</th>\n",
       "    </tr>\n",
       "  </thead>\n",
       "  <tbody>\n",
       "    <tr>\n",
       "      <th>long_short</th>\n",
       "      <td>0.032264</td>\n",
       "      <td>0.142986</td>\n",
       "      <td>0.548673</td>\n",
       "    </tr>\n",
       "    <tr>\n",
       "      <th>300_hedge</th>\n",
       "      <td>0.098497</td>\n",
       "      <td>0.390543</td>\n",
       "      <td>0.592920</td>\n",
       "    </tr>\n",
       "    <tr>\n",
       "      <th>500_hedge</th>\n",
       "      <td>0.075834</td>\n",
       "      <td>0.192887</td>\n",
       "      <td>0.628319</td>\n",
       "    </tr>\n",
       "  </tbody>\n",
       "</table>\n",
       "</div>"
      ],
      "text/plain": [
       "               年化收益率      最大回撤       月胜率\n",
       "long_short  0.032264  0.142986  0.548673\n",
       "300_hedge   0.098497  0.390543  0.592920\n",
       "500_hedge   0.075834  0.192887  0.628319"
      ]
     },
     "execution_count": 179,
     "metadata": {},
     "output_type": "execute_result"
    }
   ],
   "source": [
    "show2(factor_test_obj10)"
   ]
  },
  {
   "cell_type": "markdown",
   "metadata": {},
   "source": [
    "## Crashp1m15"
   ]
  },
  {
   "cell_type": "code",
   "execution_count": 173,
   "metadata": {
    "scrolled": true
   },
   "outputs": [
    {
     "data": {
      "text/plain": [
       "<matplotlib.axes._subplots.AxesSubplot at 0x1ba9eb54cc0>"
      ]
     },
     "execution_count": 173,
     "metadata": {},
     "output_type": "execute_result"
    },
    {
     "data": {
      "image/png": "[encoded data removed]",
      "text/plain": [
       "<matplotlib.figure.Figure at 0x1bad1707a90>"
      ]
     },
     "metadata": {},
     "output_type": "display_data"
    }
   ],
   "source": [
    "show5(factor_test_obj5j)\n",
    "# show2(factor_test_obj5j)\n",
    "# show3(factor_test_obj15)\n",
    "# show4(factor_test_obj15)\n",
    "# show5(factor_test_obj15)\n",
    "# show6(factor_test_obj15)"
   ]
  },
  {
   "cell_type": "markdown",
   "metadata": {},
   "source": [
    "## Jackpop1m15"
   ]
  },
  {
   "cell_type": "code",
   "execution_count": 69,
   "metadata": {},
   "outputs": [
    {
     "data": {
      "text/html": [
       "<div>\n",
       "<style>\n",
       "    .dataframe thead tr:only-child th {\n",
       "        text-align: right;\n",
       "    }\n",
       "\n",
       "    .dataframe thead th {\n",
       "        text-align: left;\n",
       "    }\n",
       "\n",
       "    .dataframe tbody tr th {\n",
       "        vertical-align: top;\n",
       "    }\n",
       "</style>\n",
       "<table border=\"1\" class=\"dataframe\">\n",
       "  <thead>\n",
       "    <tr style=\"text-align: right;\">\n",
       "      <th></th>\n",
       "      <th>年化收益率</th>\n",
       "      <th>最大回撤</th>\n",
       "      <th>月胜率</th>\n",
       "    </tr>\n",
       "  </thead>\n",
       "  <tbody>\n",
       "    <tr>\n",
       "      <th>long_short</th>\n",
       "      <td>0.004811</td>\n",
       "      <td>0.175737</td>\n",
       "      <td>0.522124</td>\n",
       "    </tr>\n",
       "    <tr>\n",
       "      <th>300_hedge</th>\n",
       "      <td>0.088945</td>\n",
       "      <td>0.390017</td>\n",
       "      <td>0.566372</td>\n",
       "    </tr>\n",
       "    <tr>\n",
       "      <th>500_hedge</th>\n",
       "      <td>0.065707</td>\n",
       "      <td>0.193951</td>\n",
       "      <td>0.654867</td>\n",
       "    </tr>\n",
       "  </tbody>\n",
       "</table>\n",
       "</div>"
      ],
      "text/plain": [
       "               年化收益率      最大回撤       月胜率\n",
       "long_short  0.004811  0.175737  0.522124\n",
       "300_hedge   0.088945  0.390017  0.566372\n",
       "500_hedge   0.065707  0.193951  0.654867"
      ]
     },
     "execution_count": 69,
     "metadata": {},
     "output_type": "execute_result"
    }
   ],
   "source": [
    "# show1(factor_test_obj15j)\n",
    "show2(factor_test_obj15j)\n",
    "# show3(factor_test_obj15j)\n",
    "# show4(factor_test_obj15j)\n",
    "# show5(factor_test_obj15j)\n",
    "# show6(factor_test_obj15j)"
   ]
  },
  {
   "cell_type": "markdown",
   "metadata": {},
   "source": [
    "## Crashp1m20"
   ]
  },
  {
   "cell_type": "code",
   "execution_count": 70,
   "metadata": {},
   "outputs": [
    {
     "data": {
      "text/html": [
       "<div>\n",
       "<style>\n",
       "    .dataframe thead tr:only-child th {\n",
       "        text-align: right;\n",
       "    }\n",
       "\n",
       "    .dataframe thead th {\n",
       "        text-align: left;\n",
       "    }\n",
       "\n",
       "    .dataframe tbody tr th {\n",
       "        vertical-align: top;\n",
       "    }\n",
       "</style>\n",
       "<table border=\"1\" class=\"dataframe\">\n",
       "  <thead>\n",
       "    <tr style=\"text-align: right;\">\n",
       "      <th></th>\n",
       "      <th>年化收益率</th>\n",
       "      <th>最大回撤</th>\n",
       "      <th>月胜率</th>\n",
       "    </tr>\n",
       "  </thead>\n",
       "  <tbody>\n",
       "    <tr>\n",
       "      <th>long_short</th>\n",
       "      <td>-0.010507</td>\n",
       "      <td>0.268728</td>\n",
       "      <td>0.486726</td>\n",
       "    </tr>\n",
       "    <tr>\n",
       "      <th>300_hedge</th>\n",
       "      <td>0.076968</td>\n",
       "      <td>0.399749</td>\n",
       "      <td>0.530973</td>\n",
       "    </tr>\n",
       "    <tr>\n",
       "      <th>500_hedge</th>\n",
       "      <td>0.054956</td>\n",
       "      <td>0.195789</td>\n",
       "      <td>0.601770</td>\n",
       "    </tr>\n",
       "  </tbody>\n",
       "</table>\n",
       "</div>"
      ],
      "text/plain": [
       "               年化收益率      最大回撤       月胜率\n",
       "long_short -0.010507  0.268728  0.486726\n",
       "300_hedge   0.076968  0.399749  0.530973\n",
       "500_hedge   0.054956  0.195789  0.601770"
      ]
     },
     "execution_count": 70,
     "metadata": {},
     "output_type": "execute_result"
    }
   ],
   "source": [
    "# show1(factor_test_obj20)\n",
    "show2(factor_test_obj20)\n",
    "# show3(factor_test_obj20)\n",
    "# show4(factor_test_obj20)\n",
    "# show5(factor_test_obj20)\n",
    "# show6(factor_test_obj20)"
   ]
  },
  {
   "cell_type": "markdown",
   "metadata": {},
   "source": [
    "## Jackpop1m20"
   ]
  },
  {
   "cell_type": "code",
   "execution_count": 176,
   "metadata": {},
   "outputs": [
    {
     "data": {
      "image/png": "[encoded data removed]",
      "text/plain": [
       "<matplotlib.figure.Figure at 0x1bad933ad30>"
      ]
     },
     "metadata": {},
     "output_type": "display_data"
    }
   ],
   "source": [
    "show1(factor_test_obj20j)\n",
    "# show2(factor_test_obj20j)\n",
    "# show3(factor_test_obj20j)\n",
    "# show4(factor_test_obj20j)\n",
    "# show5(factor_test_obj20j)\n",
    "# show6(factor_test_obj20j)"
   ]
  },
  {
   "cell_type": "markdown",
   "metadata": {},
   "source": [
    "## Crashp1m30"
   ]
  },
  {
   "cell_type": "code",
   "execution_count": 72,
   "metadata": {},
   "outputs": [
    {
     "data": {
      "text/html": [
       "<div>\n",
       "<style>\n",
       "    .dataframe thead tr:only-child th {\n",
       "        text-align: right;\n",
       "    }\n",
       "\n",
       "    .dataframe thead th {\n",
       "        text-align: left;\n",
       "    }\n",
       "\n",
       "    .dataframe tbody tr th {\n",
       "        vertical-align: top;\n",
       "    }\n",
       "</style>\n",
       "<table border=\"1\" class=\"dataframe\">\n",
       "  <thead>\n",
       "    <tr style=\"text-align: right;\">\n",
       "      <th></th>\n",
       "      <th>年化收益率</th>\n",
       "      <th>最大回撤</th>\n",
       "      <th>月胜率</th>\n",
       "    </tr>\n",
       "  </thead>\n",
       "  <tbody>\n",
       "    <tr>\n",
       "      <th>long_short</th>\n",
       "      <td>-0.023842</td>\n",
       "      <td>0.284478</td>\n",
       "      <td>0.415929</td>\n",
       "    </tr>\n",
       "    <tr>\n",
       "      <th>300_hedge</th>\n",
       "      <td>0.064313</td>\n",
       "      <td>0.406333</td>\n",
       "      <td>0.522124</td>\n",
       "    </tr>\n",
       "    <tr>\n",
       "      <th>500_hedge</th>\n",
       "      <td>0.043738</td>\n",
       "      <td>0.211769</td>\n",
       "      <td>0.557522</td>\n",
       "    </tr>\n",
       "  </tbody>\n",
       "</table>\n",
       "</div>"
      ],
      "text/plain": [
       "               年化收益率      最大回撤       月胜率\n",
       "long_short -0.023842  0.284478  0.415929\n",
       "300_hedge   0.064313  0.406333  0.522124\n",
       "500_hedge   0.043738  0.211769  0.557522"
      ]
     },
     "execution_count": 72,
     "metadata": {},
     "output_type": "execute_result"
    }
   ],
   "source": [
    "# show1(factor_test_obj30)\n",
    "show2(factor_test_obj30)"
   ]
  },
  {
   "cell_type": "markdown",
   "metadata": {},
   "source": [
    "## Jackpop1m30"
   ]
  },
  {
   "cell_type": "code",
   "execution_count": 74,
   "metadata": {},
   "outputs": [
    {
     "data": {
      "text/html": [
       "<div>\n",
       "<style>\n",
       "    .dataframe thead tr:only-child th {\n",
       "        text-align: right;\n",
       "    }\n",
       "\n",
       "    .dataframe thead th {\n",
       "        text-align: left;\n",
       "    }\n",
       "\n",
       "    .dataframe tbody tr th {\n",
       "        vertical-align: top;\n",
       "    }\n",
       "</style>\n",
       "<table border=\"1\" class=\"dataframe\">\n",
       "  <thead>\n",
       "    <tr style=\"text-align: right;\">\n",
       "      <th></th>\n",
       "      <th>年化收益率</th>\n",
       "      <th>最大回撤</th>\n",
       "      <th>月胜率</th>\n",
       "    </tr>\n",
       "  </thead>\n",
       "  <tbody>\n",
       "    <tr>\n",
       "      <th>long_short</th>\n",
       "      <td>0.019214</td>\n",
       "      <td>0.139756</td>\n",
       "      <td>0.566372</td>\n",
       "    </tr>\n",
       "    <tr>\n",
       "      <th>300_hedge</th>\n",
       "      <td>0.091827</td>\n",
       "      <td>0.363977</td>\n",
       "      <td>0.610619</td>\n",
       "    </tr>\n",
       "    <tr>\n",
       "      <th>500_hedge</th>\n",
       "      <td>0.068359</td>\n",
       "      <td>0.187489</td>\n",
       "      <td>0.663717</td>\n",
       "    </tr>\n",
       "  </tbody>\n",
       "</table>\n",
       "</div>"
      ],
      "text/plain": [
       "               年化收益率      最大回撤       月胜率\n",
       "long_short  0.019214  0.139756  0.566372\n",
       "300_hedge   0.091827  0.363977  0.610619\n",
       "500_hedge   0.068359  0.187489  0.663717"
      ]
     },
     "execution_count": 74,
     "metadata": {},
     "output_type": "execute_result"
    }
   ],
   "source": [
    "# show1(factor_test_obj30j)\n",
    "show2(factor_test_obj30j)"
   ]
  },
  {
   "cell_type": "markdown",
   "metadata": {},
   "source": [
    "## Crashp1m35"
   ]
  },
  {
   "cell_type": "code",
   "execution_count": 75,
   "metadata": {},
   "outputs": [
    {
     "data": {
      "text/html": [
       "<div>\n",
       "<style>\n",
       "    .dataframe thead tr:only-child th {\n",
       "        text-align: right;\n",
       "    }\n",
       "\n",
       "    .dataframe thead th {\n",
       "        text-align: left;\n",
       "    }\n",
       "\n",
       "    .dataframe tbody tr th {\n",
       "        vertical-align: top;\n",
       "    }\n",
       "</style>\n",
       "<table border=\"1\" class=\"dataframe\">\n",
       "  <thead>\n",
       "    <tr style=\"text-align: right;\">\n",
       "      <th></th>\n",
       "      <th>年化收益率</th>\n",
       "      <th>最大回撤</th>\n",
       "      <th>月胜率</th>\n",
       "    </tr>\n",
       "  </thead>\n",
       "  <tbody>\n",
       "    <tr>\n",
       "      <th>long_short</th>\n",
       "      <td>-0.011958</td>\n",
       "      <td>0.249192</td>\n",
       "      <td>0.460177</td>\n",
       "    </tr>\n",
       "    <tr>\n",
       "      <th>300_hedge</th>\n",
       "      <td>0.050967</td>\n",
       "      <td>0.407478</td>\n",
       "      <td>0.530973</td>\n",
       "    </tr>\n",
       "    <tr>\n",
       "      <th>500_hedge</th>\n",
       "      <td>0.032187</td>\n",
       "      <td>0.214565</td>\n",
       "      <td>0.548673</td>\n",
       "    </tr>\n",
       "  </tbody>\n",
       "</table>\n",
       "</div>"
      ],
      "text/plain": [
       "               年化收益率      最大回撤       月胜率\n",
       "long_short -0.011958  0.249192  0.460177\n",
       "300_hedge   0.050967  0.407478  0.530973\n",
       "500_hedge   0.032187  0.214565  0.548673"
      ]
     },
     "execution_count": 75,
     "metadata": {},
     "output_type": "execute_result"
    }
   ],
   "source": [
    "# show1(factor_test_obj35)\n",
    "show2(factor_test_obj35)"
   ]
  },
  {
   "cell_type": "markdown",
   "metadata": {},
   "source": [
    "## Jackpop1m35"
   ]
  },
  {
   "cell_type": "code",
   "execution_count": 76,
   "metadata": {},
   "outputs": [
    {
     "data": {
      "text/html": [
       "<div>\n",
       "<style>\n",
       "    .dataframe thead tr:only-child th {\n",
       "        text-align: right;\n",
       "    }\n",
       "\n",
       "    .dataframe thead th {\n",
       "        text-align: left;\n",
       "    }\n",
       "\n",
       "    .dataframe tbody tr th {\n",
       "        vertical-align: top;\n",
       "    }\n",
       "</style>\n",
       "<table border=\"1\" class=\"dataframe\">\n",
       "  <thead>\n",
       "    <tr style=\"text-align: right;\">\n",
       "      <th></th>\n",
       "      <th>年化收益率</th>\n",
       "      <th>最大回撤</th>\n",
       "      <th>月胜率</th>\n",
       "    </tr>\n",
       "  </thead>\n",
       "  <tbody>\n",
       "    <tr>\n",
       "      <th>long_short</th>\n",
       "      <td>0.007229</td>\n",
       "      <td>0.194660</td>\n",
       "      <td>0.548673</td>\n",
       "    </tr>\n",
       "    <tr>\n",
       "      <th>300_hedge</th>\n",
       "      <td>0.068007</td>\n",
       "      <td>0.377020</td>\n",
       "      <td>0.592920</td>\n",
       "    </tr>\n",
       "    <tr>\n",
       "      <th>500_hedge</th>\n",
       "      <td>0.044013</td>\n",
       "      <td>0.202409</td>\n",
       "      <td>0.628319</td>\n",
       "    </tr>\n",
       "  </tbody>\n",
       "</table>\n",
       "</div>"
      ],
      "text/plain": [
       "               年化收益率      最大回撤       月胜率\n",
       "long_short  0.007229  0.194660  0.548673\n",
       "300_hedge   0.068007  0.377020  0.592920\n",
       "500_hedge   0.044013  0.202409  0.628319"
      ]
     },
     "execution_count": 76,
     "metadata": {},
     "output_type": "execute_result"
    }
   ],
   "source": [
    "# show1(factor_test_obj35j)\n",
    "show2(factor_test_obj35j)"
   ]
  },
  {
   "cell_type": "markdown",
   "metadata": {},
   "source": [
    "## Crashp1m40"
   ]
  },
  {
   "cell_type": "code",
   "execution_count": 77,
   "metadata": {},
   "outputs": [
    {
     "data": {
      "text/html": [
       "<div>\n",
       "<style>\n",
       "    .dataframe thead tr:only-child th {\n",
       "        text-align: right;\n",
       "    }\n",
       "\n",
       "    .dataframe thead th {\n",
       "        text-align: left;\n",
       "    }\n",
       "\n",
       "    .dataframe tbody tr th {\n",
       "        vertical-align: top;\n",
       "    }\n",
       "</style>\n",
       "<table border=\"1\" class=\"dataframe\">\n",
       "  <thead>\n",
       "    <tr style=\"text-align: right;\">\n",
       "      <th></th>\n",
       "      <th>年化收益率</th>\n",
       "      <th>最大回撤</th>\n",
       "      <th>月胜率</th>\n",
       "    </tr>\n",
       "  </thead>\n",
       "  <tbody>\n",
       "    <tr>\n",
       "      <th>long_short</th>\n",
       "      <td>0.007229</td>\n",
       "      <td>0.194660</td>\n",
       "      <td>0.548673</td>\n",
       "    </tr>\n",
       "    <tr>\n",
       "      <th>300_hedge</th>\n",
       "      <td>0.068007</td>\n",
       "      <td>0.377020</td>\n",
       "      <td>0.592920</td>\n",
       "    </tr>\n",
       "    <tr>\n",
       "      <th>500_hedge</th>\n",
       "      <td>0.044013</td>\n",
       "      <td>0.202409</td>\n",
       "      <td>0.628319</td>\n",
       "    </tr>\n",
       "  </tbody>\n",
       "</table>\n",
       "</div>"
      ],
      "text/plain": [
       "               年化收益率      最大回撤       月胜率\n",
       "long_short  0.007229  0.194660  0.548673\n",
       "300_hedge   0.068007  0.377020  0.592920\n",
       "500_hedge   0.044013  0.202409  0.628319"
      ]
     },
     "execution_count": 77,
     "metadata": {},
     "output_type": "execute_result"
    }
   ],
   "source": [
    "# show1(factor_test_obj40)\n",
    "show2(factor_test_obj35j)"
   ]
  },
  {
   "cell_type": "markdown",
   "metadata": {},
   "source": [
    "## Jackpop1m40"
   ]
  },
  {
   "cell_type": "code",
   "execution_count": 187,
   "metadata": {},
   "outputs": [
    {
     "data": {
      "text/html": [
       "<div>\n",
       "<style>\n",
       "    .dataframe thead tr:only-child th {\n",
       "        text-align: right;\n",
       "    }\n",
       "\n",
       "    .dataframe thead th {\n",
       "        text-align: left;\n",
       "    }\n",
       "\n",
       "    .dataframe tbody tr th {\n",
       "        vertical-align: top;\n",
       "    }\n",
       "</style>\n",
       "<table border=\"1\" class=\"dataframe\">\n",
       "  <thead>\n",
       "    <tr style=\"text-align: right;\">\n",
       "      <th></th>\n",
       "      <th>年化收益率</th>\n",
       "      <th>最大回撤</th>\n",
       "      <th>月胜率</th>\n",
       "    </tr>\n",
       "  </thead>\n",
       "  <tbody>\n",
       "    <tr>\n",
       "      <th>long_short</th>\n",
       "      <td>-0.002458</td>\n",
       "      <td>0.284017</td>\n",
       "      <td>0.513274</td>\n",
       "    </tr>\n",
       "    <tr>\n",
       "      <th>300_hedge</th>\n",
       "      <td>0.071968</td>\n",
       "      <td>0.397045</td>\n",
       "      <td>0.592920</td>\n",
       "    </tr>\n",
       "    <tr>\n",
       "      <th>500_hedge</th>\n",
       "      <td>0.048925</td>\n",
       "      <td>0.209591</td>\n",
       "      <td>0.619469</td>\n",
       "    </tr>\n",
       "  </tbody>\n",
       "</table>\n",
       "</div>"
      ],
      "text/plain": [
       "               年化收益率      最大回撤       月胜率\n",
       "long_short -0.002458  0.284017  0.513274\n",
       "300_hedge   0.071968  0.397045  0.592920\n",
       "500_hedge   0.048925  0.209591  0.619469"
      ]
     },
     "execution_count": 187,
     "metadata": {},
     "output_type": "execute_result"
    }
   ],
   "source": [
    "# show1(factor_test_obj40j)\n",
    "show2(factor_test_obj40j)"
   ]
  },
  {
   "cell_type": "code",
   "execution_count": null,
   "metadata": {
    "collapsed": true
   },
   "outputs": [],
   "source": []
  }
 ],
 "metadata": {
  "kernelspec": {
   "display_name": "Python 3",
   "language": "python",
   "name": "python3"
  },
  "language_info": {
   "codemirror_mode": {
    "name": "ipython",
    "version": 3
   },
   "file_extension": ".py",
   "mimetype": "text/x-python",
   "name": "python",
   "nbconvert_exporter": "python",
   "pygments_lexer": "ipython3",
   "version": "3.6.1"
  }
 },
 "nbformat": 4,
 "nbformat_minor": 2
}
